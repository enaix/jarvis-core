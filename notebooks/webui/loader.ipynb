{
 "cells": [
  {
   "cell_type": "code",
   "execution_count": null,
   "metadata": {
    "id": "ecLzMZKB0pa7"
   },
   "outputs": [],
   "source": [
    "from huggingface_hub import snapshot_download"
   ]
  },
  {
   "cell_type": "code",
   "execution_count": null,
   "metadata": {
    "colab": {
     "base_uri": "https://localhost:8080/",
     "height": 35,
     "referenced_widgets": [
      "d98d9a2e803e4924bd6811cc5f83879f",
      "2b96e7a54a204c3db5ddca7fd542d28a",
      "e3e0aa201c9d459abe674ad6f4862056",
      "fef72f09603f4b6d9bb60e2af832e94e",
      "fb15d77abe5546ccacff75a28a355f91",
      "156aa6f2616343618542a4e1912735cb",
      "44fc9a6c753342d5a7ce46b396669ea2",
      "b0ff489e37684059b0774c9f6cb19167",
      "cef6bb4e5fec4464b6b4063e19aedd26",
      "dfdd006f188b43309284a7f89dbd2c3c",
      "69c1fce5c1d948b4a22676b42c230ddc"
     ]
    },
    "id": "0eqIHbbT0sgV",
    "outputId": "cfeef518-fbde-47fb-9d6d-74557cc46976"
   },
   "outputs": [],
   "source": [
    "dataset_path = snapshot_download(repo_id=\"biglab/webui-7k\", repo_type=\"dataset\")\n",
    "dataset_path"
   ]
  },
  {
   "cell_type": "code",
   "execution_count": null,
   "metadata": {
    "id": "_Ns_OaPA1G58"
   },
   "outputs": [],
   "source": [
    "import enum\n",
    "import os\n",
    "import zipfile\n",
    "import gzip\n",
    "import json\n",
    "from glob import glob\n",
    "import re"
   ]
  },
  {
   "cell_type": "code",
   "execution_count": null,
   "metadata": {
    "id": "Zjkz3BXsgZMp"
   },
   "outputs": [],
   "source": [
    "import numpy as np\n",
    "import pandas as pd\n",
    "from PIL import Image\n",
    "import matplotlib.pyplot as plt"
   ]
  },
  {
   "cell_type": "code",
   "execution_count": null,
   "metadata": {
    "id": "4VawOQzO1AhF"
   },
   "outputs": [],
   "source": [
    "# dead code\n",
    "class WidType(enum.StrEnum):\n",
    "    IMG = \"img\",\n",
    "    FIGURE = \"figure\",\n",
    "    S_TEXT = \"StaticText\",\n",
    "    SEP = \"separator\",\n",
    "    BR = \"LineBreak\", # <br>\n",
    "    LINK = \"link\",\n",
    "    LIST_ITEM = \"listitem\",\n",
    "    HEADING = \"heading\",\n",
    "    PARAGRAPH = \"paragraph\"\n",
    "\n"
   ]
  },
  {
   "cell_type": "code",
   "execution_count": null,
   "metadata": {
    "id": "A4VUOww5Bjoj"
   },
   "outputs": [],
   "source": [
    "# Create output dir\n",
    "d1_path = os.path.join(dataset_path, \"dataset1\")\n",
    "if not os.path.exists(d1_path):\n",
    "    os.mkdir(d1_path)"
   ]
  },
  {
   "cell_type": "markdown",
   "metadata": {
    "id": "kI3x0EfEktFl"
   },
   "source": [
    "## Dataset decompression"
   ]
  },
  {
   "cell_type": "code",
   "execution_count": null,
   "metadata": {
    "colab": {
     "base_uri": "https://localhost:8080/"
    },
    "id": "g_MD2fmGDnxZ",
    "outputId": "a2fb9077-5bdd-4d13-917f-f0a910d1662f"
   },
   "outputs": [],
   "source": [
    "# Merge 2 zip files\n",
    "files = glob(os.path.join(dataset_path, \"*.zip*\"))\n",
    "output = os.path.join(d1_path, \"dataset.zip\")\n",
    "\n",
    "os.system(\"cat \" + ' '.join(files) + \" > \" + output)"
   ]
  },
  {
   "cell_type": "code",
   "execution_count": null,
   "metadata": {},
   "outputs": [],
   "source": [
    "from glob import glob\n",
    "parts = sorted(glob(os.path.join(dataset_path, \"*.zip*\")))\n",
    "print(\"Number of parts:\", len(parts))\n",
    "print(parts[:5])"
   ]
  },
  {
   "cell_type": "code",
   "execution_count": null,
   "metadata": {},
   "outputs": [],
   "source": [
    "import shutil, pathlib\n",
    "\n",
    "parts   = sorted(glob(os.path.join(dataset_path, \"*.zip*\")))\n",
    "target  = pathlib.Path(d1_path) / \"dataset.zip\"\n",
    "target.parent.mkdir(parents=True, exist_ok=True)\n",
    "\n",
    "with target.open(\"wb\") as w:\n",
    "    for p in parts:\n",
    "        with open(p, \"rb\") as r:\n",
    "            shutil.copyfileobj(r, w)\n",
    "\n",
    "print(\"Size:\", target.stat().st_size, \"bytes\")"
   ]
  },
  {
   "cell_type": "code",
   "execution_count": null,
   "metadata": {},
   "outputs": [],
   "source": [
    "import zipfile\n",
    "with zipfile.ZipFile(target) as z:\n",
    "    print(\"Number of files:\", len(z.namelist()))\n",
    "    assert z.testzip() is None, \"error\""
   ]
  },
  {
   "cell_type": "code",
   "execution_count": null,
   "metadata": {
    "colab": {
     "base_uri": "https://localhost:8080/"
    },
    "id": "xGG5n3r4C2HC",
    "outputId": "d419eae9-efd6-4c3e-903c-12c07d740fa5"
   },
   "outputs": [],
   "source": [
    "d1_zip = os.path.realpath(output)\n",
    "zipfile.is_zipfile(d1_zip)"
   ]
  },
  {
   "cell_type": "code",
   "execution_count": null,
   "metadata": {
    "id": "2dC08tnVBrHe"
   },
   "outputs": [],
   "source": [
    "with zipfile.ZipFile(output, 'r') as z:\n",
    "    z.extractall(d1_path)"
   ]
  },
  {
   "cell_type": "markdown",
   "metadata": {
    "id": "TDhhl7ICYK4H"
   },
   "source": [
    "## Loading files"
   ]
  },
  {
   "cell_type": "code",
   "execution_count": null,
   "metadata": {},
   "outputs": [],
   "source": [
    "#files = os.path.join(d1_path, \"train_split_web7k\")\n",
    "files = r\"C:\\Users\\70133\\.cache\\huggingface\\hub\\datasets--biglab--webui-7k\\snapshots\\60f7b3c4b9409f75551664adc1564625dfc33c2e\\dataset1\\train_split_web7k\"\n",
    "print(files)\n",
    "print(\"files number\", len(os.listdir(files)))"
   ]
  },
  {
   "cell_type": "code",
   "execution_count": null,
   "metadata": {
    "id": "xOu8a6ATgeea"
   },
   "outputs": [],
   "source": [
    "# Load pages metadata\n",
    "os.chdir(r\"C:\\Users\\70133\\Documents\\GitHub\\jarvis-core\")\n",
    "\n",
    "with open('webui/metadata/screenclassification/class_map_enrico.json', 'r') as f:\n",
    "    labels = json.load(f)[\"idx2Label\"].values()\n",
    "#dtypes = {**{'page_id': object, 'file': object}, **dict([(x, np.float64) for x in labels])}\n",
    "dtypes = {**{'page_id': np.int64, 'file': object}, **dict([(x, np.float64) for x in labels])}\n",
    "\n",
    "df_c = pd.read_csv('webui/metadata/screenclassification/silver_webui-multi_topic.csv', sep=r'[,\\\\]', names=['page_id', 'file', *labels], dtype=dtypes, engine='python')"
   ]
  },
  {
   "cell_type": "code",
   "execution_count": null,
   "metadata": {},
   "outputs": [],
   "source": [
    "df_c.head(5)"
   ]
  },
  {
   "cell_type": "code",
   "execution_count": null,
   "metadata": {
    "id": "AdXcQNGSm03A"
   },
   "outputs": [],
   "source": [
    "# Take max of each screenshot and save it\n",
    "df_c['label_max'] = df_c[labels].idxmax(axis=1)\n",
    "df_c['certainty'] = df_c[labels].max(axis=1)\n",
    "\n",
    "df_cf = (df_c.set_index(['page_id', 'file']).sort_index())      # index = (page_id, file)\n",
    "assert df_cf.index.is_unique   "
   ]
  },
  {
   "cell_type": "code",
   "execution_count": null,
   "metadata": {},
   "outputs": [],
   "source": [
    "df_cf.head(5)"
   ]
  },
  {
   "cell_type": "code",
   "execution_count": null,
   "metadata": {
    "colab": {
     "base_uri": "https://localhost:8080/"
    },
    "id": "5KafmSBrrEol",
    "outputId": "e749eec4-a2a7-4fb0-a5ce-ec4b13c52df1"
   },
   "outputs": [],
   "source": [
    "df_cf[\"label_max\"].value_counts()"
   ]
  },
  {
   "cell_type": "markdown",
   "metadata": {
    "id": "t87eO0gDk_YL"
   },
   "source": [
    "## Dataset parsing"
   ]
  },
  {
   "cell_type": "code",
   "execution_count": null,
   "metadata": {
    "id": "WVmp-L4jbhnK"
   },
   "outputs": [],
   "source": [
    "class FileType(enum.StrEnum):\n",
    "    \"\"\"\n",
    "    Enum containing all filetypes\n",
    "    \"\"\"\n",
    "\n",
    "    AXTree = \"axtree.json.gz\",\n",
    "    BB = \"bb.json.gz\",\n",
    "    Box = \"box.json.gz\",\n",
    "    Class = \"class.json.gz\",\n",
    "    HTML = \"html.html\",\n",
    "    Links = \"links.json\",\n",
    "    ScreenFull = \"screenshot-full.webp\",\n",
    "    Screen = \"screenshot.webp\",\n",
    "    Style = \"style.json.gz\",\n",
    "    URL = \"url.txt\",\n",
    "    Viewport = \"viewport.json.gz\"\n",
    "\n",
    "# Helper functions\n",
    "\n",
    "def ft_is_gz(ft: FileType) -> bool:\n",
    "    \"\"\"\n",
    "    Check if a FileType is a gz file\n",
    "    \"\"\"\n",
    "    return ft in [FileType.AXTree, FileType.BB, FileType.Box, FileType.Class, FileType.Style, FileType.Viewport]\n",
    "\n",
    "def ft_is_json(ft: FileType) -> bool:\n",
    "    \"\"\"\n",
    "    Check if a FileType is in json format\n",
    "    \"\"\"\n",
    "    return ft in [FileType.AXTree, FileType.BB, FileType.Box, FileType.Class, FileType.Links, FileType.Style, FileType.Viewport]\n",
    "\n",
    "def ft_is_webp(ft: FileType) -> bool:\n",
    "    \"\"\"\n",
    "    Check if a FileType is a webp image\n",
    "    \"\"\"\n",
    "    return ft in [FileType.ScreenFull, FileType.Screen]"
   ]
  },
  {
   "cell_type": "code",
   "execution_count": null,
   "metadata": {
    "id": "WVmp-L4jbhnK"
   },
   "outputs": [],
   "source": [
    "class Page():\n",
    "    \"\"\"\n",
    "    A class which loads page content (screen)\n",
    "    \"\"\"\n",
    "    def __init__(self, path, screen_type: str, debug: bool = True):\n",
    "        self.screen_type = screen_type\n",
    "        self.path = path\n",
    "        self.skip = False\n",
    "\n",
    "        # Parse screen type\n",
    "        self.desktop = screen_type.startswith(\"default\")\n",
    "        if self.desktop:\n",
    "            (self.width, self.height) = tuple(map(int, screen_type.split('_')[1].split('-')))\n",
    "        else:\n",
    "            (self.width, self.height) = (0, 0)\n",
    "\n",
    "        # Load filenames\n",
    "        #files = list(filter(lambda x: x.startswith(screen_type), os.listdir(path)))\n",
    "        self.fnames = dict()\n",
    "        self.files = dict()\n",
    "        missing = False\n",
    "\n",
    "        for ft in FileType:\n",
    "            file_path = screen_type + \"-\" + ft.value\n",
    "            if os.path.exists(os.path.join(self.path, file_path)):\n",
    "                self.fnames[ft] = file_path\n",
    "            else:\n",
    "                missing = True\n",
    "\n",
    "\n",
    "        if missing:\n",
    "            # Some files are missing\n",
    "            if debug:\n",
    "                for ft, v in self.fnames.items():\n",
    "                    assert ft_is_webp(ft), \"Page::__init__() : non-webp file in partial download : {}\".format(v)\n",
    "            self.skip = True\n",
    "\n",
    "\n",
    "    def load(self, debug: bool = True, *args):\n",
    "        if self.skip:\n",
    "            return\n",
    "        if len(args) == 0:\n",
    "            ftypes = FileType\n",
    "        else:\n",
    "            ftypes = args\n",
    "\n",
    "        for ft in ftypes:\n",
    "            fname = os.path.join(self.path, self.fnames[ft])\n",
    "            if debug:\n",
    "                print(\"Page::load() : loading file {}...\".format(self.fnames[ft]))\n",
    "\n",
    "            if ft_is_webp(ft):\n",
    "                # Check if the file is empty\n",
    "                if os.path.getsize(fname) == 0:\n",
    "                    if debug:\n",
    "                        print(\"Page::load() : {} is empty\".format(self.fnames[ft]))\n",
    "                    continue\n",
    "                self.files[ft] = Image.open(fname)\n",
    "\n",
    "            elif ft_is_gz(ft):\n",
    "                # gzip\n",
    "                with gzip.open(fname) as f:\n",
    "                    if ft_is_json(ft):\n",
    "                        self.files[ft] = json.load(f)\n",
    "                    else:\n",
    "                        # plaintext\n",
    "                        self.files[ft] = f.read()\n",
    "            else:\n",
    "                # not compressed\n",
    "                #with open(fname) as f:\n",
    "                with open(fname, encoding=\"utf-8\", errors=\"replace\") as f:\n",
    "                    if ft_is_json(ft):\n",
    "                        self.files[ft] = json.load(f)\n",
    "                    else:\n",
    "                        # plaintext\n",
    "                        self.files[ft] = f.read()\n",
    "                        \n",
    "\n",
    "class PageLoader():\n",
    "    \"\"\"\n",
    "    A class which loads multiple pages (with different resolutions). Loads only labels of the specified class\n",
    "    \"\"\"\n",
    "    def __init__(self, path, debug: bool = True, *args):\n",
    "        self.path = path\n",
    "        self.page_id = np.int64(os.path.basename(path))\n",
    "\n",
    "        #print('\\nID:', self.page_id)\n",
    "        self.skip = False\n",
    "\n",
    "        if debug:\n",
    "            print(\"PageLoader()::__init__() : opening\", self.page_id)\n",
    "            #print(os.listdir(self.path))\n",
    "\n",
    "        # Extract pages\n",
    "        prefixes = map(lambda x: '-'.join(x.split('-')[:-1]), os.listdir(self.path))\n",
    "        screen_types = list(filter(lambda x: x.find(\"screenshot\") == -1, list(set(prefixes))))\n",
    "\n",
    "        # Load pages\n",
    "        self.pages = dict()\n",
    "        for s in screen_types:\n",
    "            page = Page(self.path, s, debug)\n",
    "            if not page.skip:\n",
    "                self.pages[s] = page\n",
    "                self.pages[s].load(debug, *args) # load all\n",
    "\n",
    "        # Find best page(with bigest width)\n",
    "        self.best = next(\n",
    "                (p for p in sorted(self.pages.values(), reverse=True, key=lambda p: p.width)\n",
    "                 if p.files.get(FileType.ScreenFull)), None)\n",
    "        \n",
    "        \n",
    "        # set screen_type, label and certainty for best Page\n",
    "        try:\n",
    "            self.screen_type = self.best.screen_type\n",
    "        except AttributeError:\n",
    "            self.screen_type = ''\n",
    "        try:\n",
    "            self.label = df_cf.loc[(self.page_id, self.best.screen_type + '-screenshot.webp'), 'label_max']\n",
    "        except (AttributeError, KeyError):\n",
    "            self.label = ''\n",
    "        try:\n",
    "            self.certainty = df_cf.loc[(self.page_id, self.best.screen_type + '-screenshot.webp'), 'certainty']\n",
    "        except (AttributeError, KeyError):\n",
    "            self.certainty = 0.0\n",
    "\n",
    "    \n",
    "    def image(self) -> [Image.Image, None]:\n",
    "        \"\"\"\n",
    "        Find and return the largest page image width. Desktop images always have the largest priority\n",
    "        \"\"\"\n",
    "        if self.best and self.best.files.get(FileType.ScreenFull) is not None:\n",
    "            return self.best.files[FileType.ScreenFull]\n",
    "        return None"
   ]
  },
  {
   "cell_type": "code",
   "execution_count": null,
   "metadata": {
    "id": "H_G-R82Agt6t"
   },
   "outputs": [],
   "source": [
    "def label_certainty_thresh(c: np.float64) -> bool:      \n",
    "    return c >= 0.6"
   ]
  },
  {
   "cell_type": "code",
   "execution_count": null,
   "metadata": {
    "id": "Ewx1zih0y-9Z"
   },
   "outputs": [],
   "source": [
    "def preview(img: Image.Image, width: int) -> Image.Image:\n",
    "    return img.resize((width, int(img.height / img.width * width)))"
   ]
  },
  {
   "cell_type": "code",
   "execution_count": null,
   "metadata": {
    "colab": {
     "base_uri": "https://localhost:8080/",
     "height": 90
    },
    "id": "Sb5ptniwbNzc",
    "outputId": "2ce9bde2-edad-474d-e6e0-c4a68ad2ddf7"
   },
   "outputs": [],
   "source": [
    "_ = plt.figure(figsize=(36, 20)) # 1920/1080 scaled to 360p\n",
    "(nrows, ncols) = (5, 5) # Set the grid size\n",
    "start = nrows*ncols # Start index\n",
    "skip = 0\n",
    "\n",
    "files_l = sorted(os.listdir(files))\n",
    "# for index in range(0, nrows*ncols):\n",
    "for index in range(0, nrows*ncols):\n",
    "    while True: # Find matching\n",
    "        fpath = files_l[index + start + skip]\n",
    "        # Parse the page\n",
    "        loader = PageLoader(os.path.join(files, fpath), debug=False)\n",
    "        if not label_certainty_thresh(loader.certainty):\n",
    "            skip += 1\n",
    "            continue # Skip\n",
    "\n",
    "        # Create a subplot and render an image\n",
    "        ax = plt.subplot(nrows, ncols, index+1)\n",
    "        _ = plt.title(loader.label)\n",
    "        _, _ = plt.xticks([]), plt.yticks([]);\n",
    "        image = loader.image()\n",
    "        if image is not None:\n",
    "            _ = plt.imshow(preview(image, 360))\n",
    "            print(loader.page_id, end=' ')\n",
    "            if index % ncols == 4:\n",
    "                print('')\n",
    "        else:\n",
    "            skip += 1\n",
    "            continue # Load the next sample\n",
    "        # Else found\n",
    "        break\n",
    "_ = plt.show()"
   ]
  },
  {
   "cell_type": "markdown",
   "metadata": {
    "id": "t87eO0gDk_YL"
   },
   "source": [
    "## Bounding Boxes"
   ]
  },
  {
   "cell_type": "code",
   "execution_count": null,
   "metadata": {},
   "outputs": [],
   "source": [
    "# Take 1655885631145 since it is in huggingface dataset\n",
    "path = r\"C:\\Users\\70133\\.cache\\huggingface\\hub\\datasets--biglab--webui-7k\\snapshots\\60f7b3c4b9409f75551664adc1564625dfc33c2e\\dataset1\\train_split_web7k\\1655885631145\"\n",
    "loader = PageLoader(path, debug=False)\n",
    "\n",
    "# Show\n",
    "print(loader.pages.keys())\n",
    "print('screen_type:', loader.screen_type, 'page_id:', loader.page_id, 'label:', loader.label)\n",
    "plt.imshow(loader.image())\n",
    "plt.axis(\"off\")\n",
    "plt.show()"
   ]
  },
  {
   "cell_type": "code",
   "execution_count": null,
   "metadata": {},
   "outputs": [],
   "source": [
    "# AXTree\n",
    "nodes = loader.best.files[FileType.AXTree][\"nodes\"]\n",
    "print(json.dumps(nodes, indent=2, ensure_ascii=False))"
   ]
  },
  {
   "cell_type": "code",
   "execution_count": null,
   "metadata": {},
   "outputs": [],
   "source": [
    "# BB\n",
    "bb = loader.best.files.get(FileType.BB)\n",
    "for b_id, b in bb.items():\n",
    "    print(b_id, b)"
   ]
  },
  {
   "cell_type": "code",
   "execution_count": null,
   "metadata": {},
   "outputs": [],
   "source": [
    "import cv2\n",
    "from pathlib import Path\n",
    "\n",
    "bb = loader.best.files.get(FileType.BB) # Boxes\n",
    "pil_img = loader.image()                                    # WebPImageFile\n",
    "img_rgb = np.array(pil_img)                                 # RGB\n",
    "img_bgr = cv2.cvtColor(img_rgb, cv2.COLOR_RGB2BGR)          # BGR for OpenCV\n",
    "\n",
    "# Draw boxes\n",
    "for b_id, b in bb.items():\n",
    "    if b is None or b[\"width\"] == 0 or b[\"height\"] == 0:\n",
    "        continue\n",
    "        \n",
    "    x1, y1 = int(b[\"x\"]), int(b[\"y\"])\n",
    "    x2 = int(b[\"x\"] + b[\"width\"])\n",
    "    y2 = int(b[\"y\"] + b[\"height\"])\n",
    "    cv2.rectangle(img_bgr, (x1, y1), (x2, y2), (0, 255, 0), 2) # Green, width = 2px\n",
    "    # cv2.putText(img_bgr, b_id, (x1, max(y1 - 8, 0)), cv2.FONT_HERSHEY_SIMPLEX, 0.6, (0, 255, 0), 2) # Text\n",
    "\n",
    "img_rgb = cv2.cvtColor(img_bgr, cv2.COLOR_BGR2RGB) # Back to RGB\n",
    "\n",
    "# Show\n",
    "plt.imshow(img_rgb)\n",
    "plt.axis(\"off\")\n",
    "plt.show()\n",
    "\n",
    "# Save\n",
    "out_dir = Path(r\"C:\\Users\\70133\\.cache\\huggingface\\hub\\datasets--biglab--webui-7k\\snapshots\\60f7b3c4b9409f75551664adc1564625dfc33c2e\\dataset1\\bb\")\n",
    "out_dir.mkdir(parents=True, exist_ok=True)\n",
    "out_path = out_dir / \"boxed.png\"\n",
    "\n",
    "if not cv2.imwrite(str(out_path), img_bgr):\n",
    "    raise RuntimeError(\"error\")\n",
    "print(\"Image saved in:\", out_path)"
   ]
  }
 ],
 "metadata": {
  "colab": {
   "provenance": []
  },
  "kernelspec": {
   "display_name": "Python 3 (ipykernel)",
   "language": "python",
   "name": "python3"
  },
  "language_info": {
   "codemirror_mode": {
    "name": "ipython",
    "version": 3
   },
   "file_extension": ".py",
   "mimetype": "text/x-python",
   "name": "python",
   "nbconvert_exporter": "python",
   "pygments_lexer": "ipython3",
   "version": "3.13.0"
  },
  "widgets": {
   "application/vnd.jupyter.widget-state+json": {
    "156aa6f2616343618542a4e1912735cb": {
     "model_module": "@jupyter-widgets/base",
     "model_module_version": "2.0.0",
     "model_name": "LayoutModel",
     "state": {
      "_model_module": "@jupyter-widgets/base",
      "_model_module_version": "2.0.0",
      "_model_name": "LayoutModel",
      "_view_count": null,
      "_view_module": "@jupyter-widgets/base",
      "_view_module_version": "2.0.0",
      "_view_name": "LayoutView",
      "align_content": null,
      "align_items": null,
      "align_self": null,
      "border_bottom": null,
      "border_left": null,
      "border_right": null,
      "border_top": null,
      "bottom": null,
      "display": null,
      "flex": null,
      "flex_flow": null,
      "grid_area": null,
      "grid_auto_columns": null,
      "grid_auto_flow": null,
      "grid_auto_rows": null,
      "grid_column": null,
      "grid_gap": null,
      "grid_row": null,
      "grid_template_areas": null,
      "grid_template_columns": null,
      "grid_template_rows": null,
      "height": null,
      "justify_content": null,
      "justify_items": null,
      "left": null,
      "margin": null,
      "max_height": null,
      "max_width": null,
      "min_height": null,
      "min_width": null,
      "object_fit": null,
      "object_position": null,
      "order": null,
      "overflow": null,
      "padding": null,
      "right": null,
      "top": null,
      "visibility": null,
      "width": null
     }
    },
    "2b96e7a54a204c3db5ddca7fd542d28a": {
     "model_module": "@jupyter-widgets/controls",
     "model_module_version": "2.0.0",
     "model_name": "HTMLModel",
     "state": {
      "_dom_classes": [],
      "_model_module": "@jupyter-widgets/controls",
      "_model_module_version": "2.0.0",
      "_model_name": "HTMLModel",
      "_view_count": null,
      "_view_module": "@jupyter-widgets/controls",
      "_view_module_version": "2.0.0",
      "_view_name": "HTMLView",
      "description": "",
      "description_allow_html": false,
      "layout": "IPY_MODEL_156aa6f2616343618542a4e1912735cb",
      "placeholder": "​",
      "style": "IPY_MODEL_44fc9a6c753342d5a7ce46b396669ea2",
      "tabbable": null,
      "tooltip": null,
      "value": "Fetching 5 files: 100%"
     }
    },
    "44fc9a6c753342d5a7ce46b396669ea2": {
     "model_module": "@jupyter-widgets/controls",
     "model_module_version": "2.0.0",
     "model_name": "HTMLStyleModel",
     "state": {
      "_model_module": "@jupyter-widgets/controls",
      "_model_module_version": "2.0.0",
      "_model_name": "HTMLStyleModel",
      "_view_count": null,
      "_view_module": "@jupyter-widgets/base",
      "_view_module_version": "2.0.0",
      "_view_name": "StyleView",
      "background": null,
      "description_width": "",
      "font_size": null,
      "text_color": null
     }
    },
    "69c1fce5c1d948b4a22676b42c230ddc": {
     "model_module": "@jupyter-widgets/controls",
     "model_module_version": "2.0.0",
     "model_name": "HTMLStyleModel",
     "state": {
      "_model_module": "@jupyter-widgets/controls",
      "_model_module_version": "2.0.0",
      "_model_name": "HTMLStyleModel",
      "_view_count": null,
      "_view_module": "@jupyter-widgets/base",
      "_view_module_version": "2.0.0",
      "_view_name": "StyleView",
      "background": null,
      "description_width": "",
      "font_size": null,
      "text_color": null
     }
    },
    "b0ff489e37684059b0774c9f6cb19167": {
     "model_module": "@jupyter-widgets/base",
     "model_module_version": "2.0.0",
     "model_name": "LayoutModel",
     "state": {
      "_model_module": "@jupyter-widgets/base",
      "_model_module_version": "2.0.0",
      "_model_name": "LayoutModel",
      "_view_count": null,
      "_view_module": "@jupyter-widgets/base",
      "_view_module_version": "2.0.0",
      "_view_name": "LayoutView",
      "align_content": null,
      "align_items": null,
      "align_self": null,
      "border_bottom": null,
      "border_left": null,
      "border_right": null,
      "border_top": null,
      "bottom": null,
      "display": null,
      "flex": null,
      "flex_flow": null,
      "grid_area": null,
      "grid_auto_columns": null,
      "grid_auto_flow": null,
      "grid_auto_rows": null,
      "grid_column": null,
      "grid_gap": null,
      "grid_row": null,
      "grid_template_areas": null,
      "grid_template_columns": null,
      "grid_template_rows": null,
      "height": null,
      "justify_content": null,
      "justify_items": null,
      "left": null,
      "margin": null,
      "max_height": null,
      "max_width": null,
      "min_height": null,
      "min_width": null,
      "object_fit": null,
      "object_position": null,
      "order": null,
      "overflow": null,
      "padding": null,
      "right": null,
      "top": null,
      "visibility": null,
      "width": null
     }
    },
    "cef6bb4e5fec4464b6b4063e19aedd26": {
     "model_module": "@jupyter-widgets/controls",
     "model_module_version": "2.0.0",
     "model_name": "ProgressStyleModel",
     "state": {
      "_model_module": "@jupyter-widgets/controls",
      "_model_module_version": "2.0.0",
      "_model_name": "ProgressStyleModel",
      "_view_count": null,
      "_view_module": "@jupyter-widgets/base",
      "_view_module_version": "2.0.0",
      "_view_name": "StyleView",
      "bar_color": null,
      "description_width": ""
     }
    },
    "d98d9a2e803e4924bd6811cc5f83879f": {
     "model_module": "@jupyter-widgets/controls",
     "model_module_version": "2.0.0",
     "model_name": "HBoxModel",
     "state": {
      "_dom_classes": [],
      "_model_module": "@jupyter-widgets/controls",
      "_model_module_version": "2.0.0",
      "_model_name": "HBoxModel",
      "_view_count": null,
      "_view_module": "@jupyter-widgets/controls",
      "_view_module_version": "2.0.0",
      "_view_name": "HBoxView",
      "box_style": "",
      "children": [
       "IPY_MODEL_2b96e7a54a204c3db5ddca7fd542d28a",
       "IPY_MODEL_e3e0aa201c9d459abe674ad6f4862056",
       "IPY_MODEL_fef72f09603f4b6d9bb60e2af832e94e"
      ],
      "layout": "IPY_MODEL_fb15d77abe5546ccacff75a28a355f91",
      "tabbable": null,
      "tooltip": null
     }
    },
    "dfdd006f188b43309284a7f89dbd2c3c": {
     "model_module": "@jupyter-widgets/base",
     "model_module_version": "2.0.0",
     "model_name": "LayoutModel",
     "state": {
      "_model_module": "@jupyter-widgets/base",
      "_model_module_version": "2.0.0",
      "_model_name": "LayoutModel",
      "_view_count": null,
      "_view_module": "@jupyter-widgets/base",
      "_view_module_version": "2.0.0",
      "_view_name": "LayoutView",
      "align_content": null,
      "align_items": null,
      "align_self": null,
      "border_bottom": null,
      "border_left": null,
      "border_right": null,
      "border_top": null,
      "bottom": null,
      "display": null,
      "flex": null,
      "flex_flow": null,
      "grid_area": null,
      "grid_auto_columns": null,
      "grid_auto_flow": null,
      "grid_auto_rows": null,
      "grid_column": null,
      "grid_gap": null,
      "grid_row": null,
      "grid_template_areas": null,
      "grid_template_columns": null,
      "grid_template_rows": null,
      "height": null,
      "justify_content": null,
      "justify_items": null,
      "left": null,
      "margin": null,
      "max_height": null,
      "max_width": null,
      "min_height": null,
      "min_width": null,
      "object_fit": null,
      "object_position": null,
      "order": null,
      "overflow": null,
      "padding": null,
      "right": null,
      "top": null,
      "visibility": null,
      "width": null
     }
    },
    "e3e0aa201c9d459abe674ad6f4862056": {
     "model_module": "@jupyter-widgets/controls",
     "model_module_version": "2.0.0",
     "model_name": "FloatProgressModel",
     "state": {
      "_dom_classes": [],
      "_model_module": "@jupyter-widgets/controls",
      "_model_module_version": "2.0.0",
      "_model_name": "FloatProgressModel",
      "_view_count": null,
      "_view_module": "@jupyter-widgets/controls",
      "_view_module_version": "2.0.0",
      "_view_name": "ProgressView",
      "bar_style": "success",
      "description": "",
      "description_allow_html": false,
      "layout": "IPY_MODEL_b0ff489e37684059b0774c9f6cb19167",
      "max": 5,
      "min": 0,
      "orientation": "horizontal",
      "style": "IPY_MODEL_cef6bb4e5fec4464b6b4063e19aedd26",
      "tabbable": null,
      "tooltip": null,
      "value": 5
     }
    },
    "fb15d77abe5546ccacff75a28a355f91": {
     "model_module": "@jupyter-widgets/base",
     "model_module_version": "2.0.0",
     "model_name": "LayoutModel",
     "state": {
      "_model_module": "@jupyter-widgets/base",
      "_model_module_version": "2.0.0",
      "_model_name": "LayoutModel",
      "_view_count": null,
      "_view_module": "@jupyter-widgets/base",
      "_view_module_version": "2.0.0",
      "_view_name": "LayoutView",
      "align_content": null,
      "align_items": null,
      "align_self": null,
      "border_bottom": null,
      "border_left": null,
      "border_right": null,
      "border_top": null,
      "bottom": null,
      "display": null,
      "flex": null,
      "flex_flow": null,
      "grid_area": null,
      "grid_auto_columns": null,
      "grid_auto_flow": null,
      "grid_auto_rows": null,
      "grid_column": null,
      "grid_gap": null,
      "grid_row": null,
      "grid_template_areas": null,
      "grid_template_columns": null,
      "grid_template_rows": null,
      "height": null,
      "justify_content": null,
      "justify_items": null,
      "left": null,
      "margin": null,
      "max_height": null,
      "max_width": null,
      "min_height": null,
      "min_width": null,
      "object_fit": null,
      "object_position": null,
      "order": null,
      "overflow": null,
      "padding": null,
      "right": null,
      "top": null,
      "visibility": null,
      "width": null
     }
    },
    "fef72f09603f4b6d9bb60e2af832e94e": {
     "model_module": "@jupyter-widgets/controls",
     "model_module_version": "2.0.0",
     "model_name": "HTMLModel",
     "state": {
      "_dom_classes": [],
      "_model_module": "@jupyter-widgets/controls",
      "_model_module_version": "2.0.0",
      "_model_name": "HTMLModel",
      "_view_count": null,
      "_view_module": "@jupyter-widgets/controls",
      "_view_module_version": "2.0.0",
      "_view_name": "HTMLView",
      "description": "",
      "description_allow_html": false,
      "layout": "IPY_MODEL_dfdd006f188b43309284a7f89dbd2c3c",
      "placeholder": "​",
      "style": "IPY_MODEL_69c1fce5c1d948b4a22676b42c230ddc",
      "tabbable": null,
      "tooltip": null,
      "value": " 5/5 [00:00&lt;00:00, 1257.96it/s]"
     }
    }
   }
  }
 },
 "nbformat": 4,
 "nbformat_minor": 4
}
