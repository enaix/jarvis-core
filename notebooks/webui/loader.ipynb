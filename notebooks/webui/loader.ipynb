{
 "cells": [
  {
   "cell_type": "code",
   "execution_count": null,
   "metadata": {
    "scrolled": true
   },
   "outputs": [],
   "source": [
    "!pip3 install -r requirements.txt"
   ]
  },
  {
   "cell_type": "code",
   "execution_count": null,
   "metadata": {},
   "outputs": [],
   "source": [
    "from huggingface_hub import snapshot_download"
   ]
  },
  {
   "cell_type": "code",
   "execution_count": null,
   "metadata": {},
   "outputs": [],
   "source": [
    "dataset_path = snapshot_download(repo_id=\"biglab/webui-7k\", repo_type=\"dataset\")\n",
    "dataset_path"
   ]
  },
  {
   "cell_type": "code",
   "execution_count": null,
   "metadata": {
    "id": "_Ns_OaPA1G58"
   },
   "outputs": [],
   "source": [
    "import enum\n",
    "import os\n",
    "import zipfile\n",
    "import gzip\n",
    "import json\n",
    "from glob import glob\n",
    "import re"
   ]
  },
  {
   "cell_type": "code",
   "execution_count": null,
   "metadata": {
    "id": "Zjkz3BXsgZMp"
   },
   "outputs": [],
   "source": [
    "import numpy as np\n",
    "import pandas as pd\n",
    "from PIL import Image\n",
    "import matplotlib.pyplot as plt\n",
    "import cv2\n",
    "from pathlib import Path"
   ]
  },
  {
   "cell_type": "code",
   "execution_count": null,
   "metadata": {},
   "outputs": [],
   "source": [
    "# Create output dir\n",
    "d1_path = os.path.join(dataset_path, \"dataset1\")\n",
    "if not os.path.exists(d1_path):\n",
    "    os.mkdir(d1_path)"
   ]
  },
  {
   "cell_type": "markdown",
   "metadata": {},
   "source": [
    "## Dataset decompression\n",
    "\n",
    "This code will unpack files only for the first time"
   ]
  },
  {
   "cell_type": "code",
   "execution_count": null,
   "metadata": {},
   "outputs": [],
   "source": [
    "def unpack():\n",
    "    # Merge 2 zip files\n",
    "    files = glob(os.path.join(dataset_path, \"*.zip*\"))\n",
    "    output = os.path.join(d1_path, \"dataset.zip\")\n",
    "    if os.path.exists(output):\n",
    "        return True # nothing to do\n",
    "    \n",
    "    os.system(\"cat \" + ' '.join(sorted(files)) + \" > \" + output)\n",
    "\n",
    "    d1_zip = os.path.realpath(output)\n",
    "    if not zipfile.is_zipfile(d1_zip):\n",
    "        print(\"WARNING : bad zip format\")\n",
    "        return False\n",
    "\n",
    "    with zipfile.ZipFile(output, 'r') as z:\n",
    "        z.extractall(d1_path)\n",
    "\n",
    "    return True"
   ]
  },
  {
   "cell_type": "code",
   "execution_count": null,
   "metadata": {},
   "outputs": [],
   "source": [
    "unpack()"
   ]
  },
  {
   "cell_type": "markdown",
   "metadata": {
    "id": "TDhhl7ICYK4H"
   },
   "source": [
    "## Loading files"
   ]
  },
  {
   "cell_type": "code",
   "execution_count": null,
   "metadata": {},
   "outputs": [],
   "source": [
    "files = os.path.join(d1_path, \"train_split_web7k\")\n",
    "base_data_path = d1_path\n",
    "print(files)\n",
    "print(\"files number\", len(os.listdir(files)))"
   ]
  },
  {
   "cell_type": "code",
   "execution_count": null,
   "metadata": {
    "id": "xOu8a6ATgeea"
   },
   "outputs": [],
   "source": [
    "# Load pages metadata\n",
    "\n",
    "# TODO figure out a proper solution for storing metadata\n",
    "# meta_path = \"C:\\Users\\70133\\Documents\\GitHub\\jarvis-core\"\n",
    "meta_path = \"/home/flynn/src/jupyter\"\n",
    "\n",
    "with open(os.path.join(meta_path, 'webui/metadata/screenclassification/class_map_enrico.json'), 'r') as f:\n",
    "    labels = json.load(f)[\"idx2Label\"].values()\n",
    "#dtypes = {**{'page_id': object, 'file': object}, **dict([(x, np.float64) for x in labels])}\n",
    "dtypes = {**{'page_id': np.int64, 'file': object}, **dict([(x, np.float64) for x in labels])}\n",
    "\n",
    "df_c = pd.read_csv(os.path.join(meta_path, 'webui/metadata/screenclassification/silver_webui-multi_topic.csv'), sep=r'[,\\\\]', names=['page_id', 'file', *labels], dtype=dtypes, engine='python')"
   ]
  },
  {
   "cell_type": "code",
   "execution_count": null,
   "metadata": {},
   "outputs": [],
   "source": [
    "df_c.head(5)"
   ]
  },
  {
   "cell_type": "code",
   "execution_count": null,
   "metadata": {
    "id": "AdXcQNGSm03A"
   },
   "outputs": [],
   "source": [
    "# Take max of each screenshot and save it\n",
    "df_c['label_max'] = df_c[labels].idxmax(axis=1)\n",
    "df_c['certainty'] = df_c[labels].max(axis=1)\n",
    "\n",
    "df_cf = (df_c.set_index(['page_id', 'file']).sort_index())      # index = (page_id, file)\n",
    "assert df_cf.index.is_unique   "
   ]
  },
  {
   "cell_type": "code",
   "execution_count": null,
   "metadata": {},
   "outputs": [],
   "source": [
    "df_cf.head(5)"
   ]
  },
  {
   "cell_type": "code",
   "execution_count": null,
   "metadata": {
    "colab": {
     "base_uri": "https://localhost:8080/"
    },
    "id": "5KafmSBrrEol",
    "outputId": "e749eec4-a2a7-4fb0-a5ce-ec4b13c52df1"
   },
   "outputs": [],
   "source": [
    "df_cf[\"label_max\"].value_counts()"
   ]
  },
  {
   "cell_type": "markdown",
   "metadata": {
    "id": "t87eO0gDk_YL"
   },
   "source": [
    "## Dataset parsing"
   ]
  },
  {
   "cell_type": "code",
   "execution_count": null,
   "metadata": {
    "id": "WVmp-L4jbhnK"
   },
   "outputs": [],
   "source": [
    "class FileType(enum.StrEnum):\n",
    "    \"\"\"\n",
    "    Enum containing all filetypes\n",
    "    \"\"\"\n",
    "\n",
    "    AXTree = \"axtree.json.gz\",\n",
    "    BB = \"bb.json.gz\",\n",
    "    Box = \"box.json.gz\",\n",
    "    Class = \"class.json.gz\",\n",
    "    HTML = \"html.html\",\n",
    "    Links = \"links.json\",\n",
    "    ScreenFull = \"screenshot-full.webp\",\n",
    "    Screen = \"screenshot.webp\",\n",
    "    Style = \"style.json.gz\",\n",
    "    URL = \"url.txt\",\n",
    "    Viewport = \"viewport.json.gz\"\n",
    "\n",
    "# Helper functions\n",
    "\n",
    "def ft_is_gz(ft: FileType) -> bool:\n",
    "    \"\"\"\n",
    "    Check if a FileType is a gz file\n",
    "    \"\"\"\n",
    "    return ft in [FileType.AXTree, FileType.BB, FileType.Box, FileType.Class, FileType.Style, FileType.Viewport]\n",
    "\n",
    "def ft_is_json(ft: FileType) -> bool:\n",
    "    \"\"\"\n",
    "    Check if a FileType is in json format\n",
    "    \"\"\"\n",
    "    return ft in [FileType.AXTree, FileType.BB, FileType.Box, FileType.Class, FileType.Links, FileType.Style, FileType.Viewport]\n",
    "\n",
    "def ft_is_webp(ft: FileType) -> bool:\n",
    "    \"\"\"\n",
    "    Check if a FileType is a webp image\n",
    "    \"\"\"\n",
    "    return ft in [FileType.ScreenFull, FileType.Screen]"
   ]
  },
  {
   "cell_type": "code",
   "execution_count": null,
   "metadata": {
    "id": "WVmp-L4jbhnK"
   },
   "outputs": [],
   "source": [
    "class Page():\n",
    "    \"\"\"\n",
    "    A class which loads page content (screen)\n",
    "    \"\"\"\n",
    "    def __init__(self, path, screen_type: str, debug: bool = True):\n",
    "        self.screen_type = screen_type\n",
    "        self.path = path\n",
    "        self.skip = False\n",
    "\n",
    "        # Parse screen type\n",
    "        self.desktop = screen_type.startswith(\"default\")\n",
    "        if self.desktop:\n",
    "            (self.width, self.height) = tuple(map(int, screen_type.split('_')[1].split('-')))\n",
    "        else:\n",
    "            (self.width, self.height) = (0, 0)\n",
    "\n",
    "        # Load filenames\n",
    "        #files = list(filter(lambda x: x.startswith(screen_type), os.listdir(path)))\n",
    "        self.fnames = dict()\n",
    "        self.files = dict()\n",
    "        missing = False\n",
    "\n",
    "        for ft in FileType:\n",
    "            file_path = screen_type + \"-\" + ft.value\n",
    "            if os.path.exists(os.path.join(self.path, file_path)):\n",
    "                self.fnames[ft] = file_path\n",
    "            else:\n",
    "                missing = True\n",
    "\n",
    "\n",
    "        if missing:\n",
    "            # Some files are missing\n",
    "            if debug:\n",
    "                for ft, v in self.fnames.items():\n",
    "                    assert ft_is_webp(ft), \"Page::__init__() : non-webp file in partial download : {}\".format(v)\n",
    "            self.skip = True\n",
    "\n",
    "\n",
    "    def load(self, debug: bool = True, *args):\n",
    "        if self.skip:\n",
    "            return\n",
    "        if len(args) == 0:\n",
    "            ftypes = FileType\n",
    "        else:\n",
    "            ftypes = args\n",
    "\n",
    "        for ft in ftypes:\n",
    "            fname = os.path.join(self.path, self.fnames[ft])\n",
    "            if debug:\n",
    "                print(\"Page::load() : loading file {}...\".format(self.fnames[ft]))\n",
    "\n",
    "            if ft_is_webp(ft):\n",
    "                # Check if the file is empty\n",
    "                if os.path.getsize(fname) == 0:\n",
    "                    if debug:\n",
    "                        print(\"Page::load() : {} is empty\".format(self.fnames[ft]))\n",
    "                    continue\n",
    "                self.files[ft] = Image.open(fname)\n",
    "\n",
    "            elif ft_is_gz(ft):\n",
    "                # gzip\n",
    "                with gzip.open(fname) as f:\n",
    "                    if ft_is_json(ft):\n",
    "                        self.files[ft] = json.load(f)\n",
    "                    else:\n",
    "                        # plaintext\n",
    "                        self.files[ft] = f.read()\n",
    "            else:\n",
    "                # not compressed\n",
    "                #with open(fname) as f:\n",
    "                with open(fname, encoding=\"utf-8\", errors=\"replace\") as f:\n",
    "                    if ft_is_json(ft):\n",
    "                        self.files[ft] = json.load(f)\n",
    "                    else:\n",
    "                        # plaintext\n",
    "                        self.files[ft] = f.read()\n",
    "                        \n",
    "\n",
    "class PageLoader():\n",
    "    \"\"\"\n",
    "    A class which loads multiple pages (with different resolutions). Loads only labels of the specified class\n",
    "    \"\"\"\n",
    "    def __init__(self, path, debug: bool = True, *args):\n",
    "        self.path = path\n",
    "        self.page_id = np.int64(os.path.basename(path))\n",
    "\n",
    "        #print('\\nID:', self.page_id)\n",
    "        self.skip = False\n",
    "\n",
    "        if debug:\n",
    "            print(\"PageLoader()::__init__() : opening\", self.page_id)\n",
    "            #print(os.listdir(self.path))\n",
    "\n",
    "        # Extract pages\n",
    "        prefixes = map(lambda x: '-'.join(x.split('-')[:-1]), os.listdir(self.path))\n",
    "        screen_types = list(filter(lambda x: x.find(\"screenshot\") == -1, list(set(prefixes))))\n",
    "\n",
    "        # Load pages\n",
    "        self.pages = dict()\n",
    "        for s in screen_types:\n",
    "            page = Page(self.path, s, debug)\n",
    "            if not page.skip:\n",
    "                self.pages[s] = page\n",
    "                self.pages[s].load(debug, *args) # load all\n",
    "\n",
    "        # Find best page(with bigest width)\n",
    "        self.best = next(\n",
    "                (p for p in sorted(self.pages.values(), reverse=True, key=lambda p: p.width)\n",
    "                 if p.files.get(FileType.ScreenFull)), None)\n",
    "        \n",
    "        \n",
    "        # set screen_type, label and certainty for best Page\n",
    "        try:\n",
    "            self.screen_type = self.best.screen_type\n",
    "        except AttributeError:\n",
    "            self.screen_type = ''\n",
    "        try:\n",
    "            self.label = df_cf.loc[(self.page_id, self.best.screen_type + '-screenshot.webp'), 'label_max']\n",
    "        except (AttributeError, KeyError):\n",
    "            self.label = ''\n",
    "        try:\n",
    "            self.certainty = df_cf.loc[(self.page_id, self.best.screen_type + '-screenshot.webp'), 'certainty']\n",
    "        except (AttributeError, KeyError):\n",
    "            self.certainty = 0.0\n",
    "\n",
    "    \n",
    "    def image(self) -> [Image.Image, None]:\n",
    "        \"\"\"\n",
    "        Find and return the largest page image width. Desktop images always have the largest priority\n",
    "        \"\"\"\n",
    "        if self.best and self.best.files.get(FileType.ScreenFull) is not None:\n",
    "            return self.best.files[FileType.ScreenFull]\n",
    "        return None"
   ]
  },
  {
   "cell_type": "code",
   "execution_count": null,
   "metadata": {
    "id": "H_G-R82Agt6t"
   },
   "outputs": [],
   "source": [
    "def label_certainty_thresh(c: np.float64) -> bool:      \n",
    "    return c >= 0.6"
   ]
  },
  {
   "cell_type": "code",
   "execution_count": null,
   "metadata": {
    "id": "Ewx1zih0y-9Z"
   },
   "outputs": [],
   "source": [
    "def preview(img: Image.Image, width: int) -> Image.Image:\n",
    "    return img.resize((width, int(img.height / img.width * width)))"
   ]
  },
  {
   "cell_type": "code",
   "execution_count": null,
   "metadata": {
    "colab": {
     "base_uri": "https://localhost:8080/",
     "height": 90
    },
    "id": "Sb5ptniwbNzc",
    "outputId": "2ce9bde2-edad-474d-e6e0-c4a68ad2ddf7"
   },
   "outputs": [],
   "source": [
    "_ = plt.figure(figsize=(36, 20)) # 1920/1080 scaled to 360p\n",
    "(nrows, ncols) = (5, 5) # Set the grid size\n",
    "start = nrows*ncols # Start index\n",
    "skip = 0\n",
    "\n",
    "files_l = sorted(os.listdir(files))\n",
    "# for index in range(0, nrows*ncols):\n",
    "for index in range(0, nrows*ncols):\n",
    "    while True: # Find matching\n",
    "        fpath = files_l[index + start + skip]\n",
    "        # Parse the page\n",
    "        loader = PageLoader(os.path.join(files, fpath), debug=False)\n",
    "        if not label_certainty_thresh(loader.certainty):\n",
    "            skip += 1\n",
    "            continue # Skip\n",
    "\n",
    "        # Create a subplot and render an image\n",
    "        ax = plt.subplot(nrows, ncols, index+1)\n",
    "        _ = plt.title(loader.label)\n",
    "        _, _ = plt.xticks([]), plt.yticks([]);\n",
    "        image = loader.image()\n",
    "        if image is not None:\n",
    "            _ = plt.imshow(preview(image, 360))\n",
    "            print(loader.page_id, end=' ')\n",
    "            if index % ncols == 4:\n",
    "                print('')\n",
    "        else:\n",
    "            skip += 1\n",
    "            continue # Load the next sample\n",
    "        # Else found\n",
    "        break\n",
    "_ = plt.show()"
   ]
  },
  {
   "cell_type": "markdown",
   "metadata": {
    "id": "t87eO0gDk_YL"
   },
   "source": [
    "## Bounding Boxes"
   ]
  },
  {
   "cell_type": "code",
   "execution_count": null,
   "metadata": {},
   "outputs": [],
   "source": [
    "# Take 1655885631145 since it is in huggingface dataset\n",
    "path = os.path.join(base_data_path, 'train_split_web7k', '1655885631145')\n",
    "loader = PageLoader(path, debug=False)\n",
    "\n",
    "# Show\n",
    "print(loader.pages.keys())\n",
    "print('screen_type:', loader.screen_type, 'page_id:', loader.page_id, 'label:', loader.label)\n",
    "plt.imshow(loader.image())\n",
    "plt.axis(\"off\")\n",
    "plt.show()"
   ]
  },
  {
   "cell_type": "code",
   "execution_count": null,
   "metadata": {
    "scrolled": true
   },
   "outputs": [],
   "source": [
    "# AXTree\n",
    "nodes = loader.best.files[FileType.AXTree]['nodes']\n",
    "print(type(loader.best.files[FileType.AXTree]))\n",
    "print(json.dumps(nodes, indent=2, ensure_ascii=False))"
   ]
  },
  {
   "cell_type": "code",
   "execution_count": null,
   "metadata": {
    "scrolled": true
   },
   "outputs": [],
   "source": [
    "# BB\n",
    "bb = loader.best.files.get(FileType.BB)\n",
    "\n",
    "# turn bb keys to int\n",
    "bb = { int(b_id): b for b_id, b in bb.items() }\n",
    "\n",
    "print(type(bb))\n",
    "for b_id, b in bb.items():\n",
    "    print(b_id, b)"
   ]
  },
  {
   "cell_type": "code",
   "execution_count": null,
   "metadata": {},
   "outputs": [],
   "source": [
    "# map backendDOMNodeId -> AXTree node\n",
    "backend_id_to_axnode = {\n",
    "    node.get(\"backendDOMNodeId\"): node\n",
    "    for node in nodes\n",
    "    if \"backendDOMNodeId\" in node\n",
    "}\n",
    "\n",
    "bb_info = {}\n",
    "for b_id, b in bb.items():\n",
    "    ax_node = backend_id_to_axnode.get(b_id)\n",
    "    if not ax_node:\n",
    "        continue\n",
    "\n",
    "    bb_info[b_id] = {\n",
    "        \"name\": ax_node.get(\"name\", {}).get(\"value\", \"\"),\n",
    "        \"name_t\": ax_node.get(\"name\", {}).get(\"type\", \"\"),\n",
    "        \"role\": ax_node.get(\"role\", {}).get(\"value\", \"\"),\n",
    "        \"role_t\": ax_node.get(\"role\", {}).get(\"type\", \"\"),\n",
    "        \"ignored\": ax_node.get(\"ignored\", False),\n",
    "        \"box\": b\n",
    "    }\n",
    "\n",
    "# print(type(backend_id_to_axnode), json.dumps(backend_id_to_axnode, indent=2, ensure_ascii=False))\n",
    "# print(type(bb_info),'\\n', json.dumps(bb_info, indent=2, ensure_ascii=False))"
   ]
  },
  {
   "cell_type": "code",
   "execution_count": null,
   "metadata": {},
   "outputs": [],
   "source": [
    "ignored_ids = [] \n",
    "for x_id, x in bb_info.items():\n",
    "    if x[\"role\"] == 'LineBreak':\n",
    "        print(x_id, x['ignored'], x['role_t'], x['role'], '\"', x['name'], '\"', x['box'])\n",
    "        ignored_ids.append(x['role'])\n",
    "\n",
    "print(set(ignored_ids))"
   ]
  },
  {
   "cell_type": "code",
   "execution_count": null,
   "metadata": {},
   "outputs": [],
   "source": [
    "unic = {info[\"name_t\"] for info in bb_info.values()}\n",
    "print(unic)"
   ]
  },
  {
   "cell_type": "code",
   "execution_count": null,
   "metadata": {},
   "outputs": [],
   "source": [
    "# roles filter\n",
    "allowed_roles = {info[\"role\"] for info in bb_info.values()}\n",
    "print(allowed_roles)\n",
    "# allowed_roles.discard('StaticText')\n",
    "# allowed_roles.discard('heading')\n",
    "# allowed_roles.discard('paragraph')\n",
    "# allowed_roles.discard('RootWebArea')\n",
    "# allowed_roles.discard('navigation')"
   ]
  },
  {
   "cell_type": "code",
   "execution_count": null,
   "metadata": {},
   "outputs": [],
   "source": [
    "def rectangle_intersaction_area_pr(p, c):\n",
    "    if(p[\"width\"] == 0 or p[\"height\"] == 0):\n",
    "        return 0\n",
    "    # Координаты пересечения\n",
    "    x_left   = max(p[\"x\"], c[\"x\"])\n",
    "    y_bottom = max(p[\"y\"], c[\"y\"])\n",
    "    x_right  = min(p[\"x\"] + p[\"width\"], c[\"x\"] + c[\"width\"])\n",
    "    y_top    = min(p[\"y\"] + p[\"height\"], c[\"y\"] + c[\"height\"])\n",
    "    \n",
    "    # Проверка: есть ли вообще пересечение\n",
    "    if x_right > x_left and y_top > y_bottom:\n",
    "        parent_area = (p[\"x\"] + p[\"width\"]) * (p[\"y\"] + p[\"height\"])\n",
    "        return (x_right - x_left) * (y_top - y_bottom) / parent_area\n",
    "    else:\n",
    "        return 0  # Нет пересечения"
   ]
  },
  {
   "cell_type": "code",
   "execution_count": null,
   "metadata": {
    "scrolled": true
   },
   "outputs": [],
   "source": [
    "nodes_by_id = {node[\"nodeId\"]: node for node in nodes}\n",
    "# print(type(nodes_by_id), json.dumps(nodes_by_id, indent=2, ensure_ascii=False))\n",
    "\n",
    "root_node = next(\n",
    "    node for node in nodes\n",
    "    if \"parentId\" not in node or node[\"parentId\"] is None\n",
    ")\n",
    "# print(root_node.get(\"childIds\", []))\n",
    "\n",
    "\n",
    "# def build_tree(node):\n",
    "#     children = []\n",
    "#     for child_id in node.get(\"childIds\", []):\n",
    "#         child_node = nodes_by_id.get(child_id)\n",
    "#         if child_node:\n",
    "#             children.append(build_tree(child_node))\n",
    "#     return {\n",
    "#         \"id\": node[\"nodeId\"],\n",
    "#         \"back_id\": node.get(\"backendDOMNodeId\"),\n",
    "#         \"ignored\": node.get(\"ignored\"),\n",
    "#         \"name\": node.get(\"name\", {}).get(\"value\", \"\"),\n",
    "#         \"role\": node.get(\"role\", {}).get(\"value\", \"\"),\n",
    "#         \"children\": children\n",
    "#     }\n",
    "\n",
    "def build_tree(node):\n",
    "    children = []\n",
    "    for child_id in node.get(\"childIds\", []):\n",
    "        child_node = nodes_by_id.get(child_id)\n",
    "        if child_node:\n",
    "            child_back_id = child_node.get(\"backendDOMNodeId\")\n",
    "            child_box = bb.get(child_back_id) if child_back_id is not None else None\n",
    "            parent_back_id = node.get(\"backendDOMNodeId\")\n",
    "            parent_box = bb.get(parent_back_id) if parent_back_id is not None else None\n",
    "\n",
    "            # По умолчанию площадь пересечения — 0\n",
    "            intersection_area = 0\n",
    "            if parent_box and child_box:\n",
    "                intersection_area = rectangle_intersaction_area_pr(parent_box, child_box)\n",
    "\n",
    "            child_tree = build_tree(child_node)\n",
    "            child_tree[\"intersection_area\"] = intersection_area\n",
    "            children.append(child_tree)\n",
    "\n",
    "    return {\n",
    "        \"id\": node[\"nodeId\"],\n",
    "        \"back_id\": node.get(\"backendDOMNodeId\"),\n",
    "        \"ignored\": node.get(\"ignored\"),\n",
    "        \"name\": node.get(\"name\", {}).get(\"value\", \"\"),\n",
    "        \"role\": node.get(\"role\", {}).get(\"value\", \"\"),\n",
    "        \"children\": children\n",
    "    }\n",
    "\n",
    "\n",
    "tree = build_tree(root_node)\n",
    "tree[\"intersection_area\"] = 0  # вручную добавляем в корень\n",
    "\n",
    "def print_tree(node, indent=0):\n",
    "    if not isinstance(node, dict):\n",
    "        print(\"❌ Unexpected node:\", node)\n",
    "        return\n",
    "\n",
    "    prefix = \" \" * (indent * 2)\n",
    "    role = node.get(\"role\", \"\")\n",
    "    name = node.get(\"name\", \"\")\n",
    "    n_id = node.get(\"id\", \"\")\n",
    "    b_id = node.get(\"back_id\", \"\")\n",
    "    ignored = node.get(\"ignored\", \"\")\n",
    "    intersection = node.get(\"intersection_area\")\n",
    "\n",
    "    print(f\"{prefix}- {b_id} [intersection_area: {intersection:.2f}] ({indent}) ({role}) ({ignored}) \")\n",
    "\n",
    "    for child in node.get(\"children\", []):\n",
    "        print_tree(child, indent + 1)\n",
    "\n",
    "print_tree(tree)"
   ]
  },
  {
   "cell_type": "code",
   "execution_count": null,
   "metadata": {
    "scrolled": true
   },
   "outputs": [],
   "source": [
    "pil_img = loader.image()                                    # WebPImageFile\n",
    "img_rgb = np.array(pil_img)                                 # RGB\n",
    "img_bgr = cv2.cvtColor(img_rgb, cv2.COLOR_RGB2BGR)          # BGR for OpenCV\n",
    "\n",
    "# Draw boxes\n",
    "for b_id, b in bb.items():\n",
    "    if b is None or b[\"width\"] == 0 or b[\"height\"] == 0:\n",
    "        continue\n",
    "    # if not bb_info[b_id][\"role_t\"] == 'role': continue\n",
    "    # if not b_id in ignored_ids:\n",
    "    #     continue\n",
    "    color_b = (0, 255, 0)\n",
    "    color_t = (255, 0, 0)\n",
    "    if b_id in {3, 117, 119, 38, 39, 51, 118, 40, 128, 129}: \n",
    "        color_b = (0, 0, 255)\n",
    "        color_t = (0, 0, 0)\n",
    "\n",
    "    \n",
    "    x1, y1 = int(b[\"x\"]), int(b[\"y\"])\n",
    "    x2 = int(b[\"x\"] + b[\"width\"])\n",
    "    y2 = int(b[\"y\"] + b[\"height\"])\n",
    "    \n",
    "    name = bb_info[b_id][\"name\"]\n",
    "    role = bb_info[b_id][\"role\"]\n",
    "    text_coordinates = (x1, max(y1 - 8, 0))\n",
    "    if y1 < 20:\n",
    "        text_coordinates = (x1, max(y1 + 20, 0))\n",
    "    # if not bb_info[b_id][\"ignored\"] and role in allowed_roles:\n",
    "    if not bb_info[b_id][\"ignored\"]:\n",
    "        cv2.rectangle(img_bgr, (x1, y1), (x2, y2), color_b, 2) # Green, width = 2px\n",
    "        cv2.putText(img_bgr, str(b_id), text_coordinates, cv2.FONT_HERSHEY_SIMPLEX, 0.6, color_t, 1) # Text\n",
    "\n",
    "img_rgb = cv2.cvtColor(img_bgr, cv2.COLOR_BGR2RGB) # Back to RGB\n",
    "\n",
    "# Show\n",
    "plt.imshow(img_rgb)\n",
    "plt.axis(\"off\")\n",
    "plt.show()\n",
    "\n",
    "# Save\n",
    "out_dir = os.path.join(base_data_path, 'bb')\n",
    "os.makedirs(out_dir, exist_ok=True)\n",
    "#out_dir.mkdir(parents=True, exist_ok=True)\n",
    "out_path = os.path.join(out_dir, \"boxed.png\")\n",
    "\n",
    "if not cv2.imwrite(str(out_path), img_bgr):\n",
    "    raise RuntimeError(\"error\")\n",
    "print(\"Image saved in:\", out_path)"
   ]
  },
  {
   "cell_type": "markdown",
   "metadata": {
    "id": "t87eO0gDk_YL"
   },
   "source": [
    "## Other Bounding Boxes"
   ]
  },
  {
   "cell_type": "code",
   "execution_count": null,
   "metadata": {},
   "outputs": [],
   "source": [
    "def get_bb_and_info(filename):\n",
    "    path = os.path.join(base_data_path, 'train_split_web7k', filename)\n",
    "    loader = PageLoader(path, debug=False)\n",
    "    \n",
    "    # AXTree\n",
    "    nodes = loader.best.files[FileType.AXTree]['nodes']\n",
    "    \n",
    "    # BB\n",
    "    bb = loader.best.files.get(FileType.BB)\n",
    "    bb = { int(b_id): b for b_id, b in bb.items() } # turn bb keys to int\n",
    "    \n",
    "    # map backendDOMNodeId -> AXTree node\n",
    "    backend_id_to_axnode = {\n",
    "        node.get(\"backendDOMNodeId\"): node\n",
    "        for node in nodes\n",
    "        if \"backendDOMNodeId\" in node\n",
    "    }\n",
    "    \n",
    "    bb_info = {}\n",
    "    for b_id, b in bb.items():\n",
    "        ax_node = backend_id_to_axnode.get(b_id)\n",
    "        if not ax_node:\n",
    "            continue\n",
    "    \n",
    "        bb_info[b_id] = {\n",
    "            \"name\": ax_node.get(\"name\", {}).get(\"value\", \"\"),\n",
    "            # \"name_t\": ax_node.get(\"name\", {}).get(\"type\", \"\"),\n",
    "            \"role\": ax_node.get(\"role\", {}).get(\"value\", \"\"),\n",
    "            # \"role_t\": ax_node.get(\"role\", {}).get(\"type\", \"\"),\n",
    "            \"ignored\": ax_node.get(\"ignored\", False),\n",
    "            # \"box\": b\n",
    "        }\n",
    "\n",
    "    # Show\n",
    "    print(loader.pages.keys())\n",
    "    print('screen_type:', loader.screen_type, 'page_id:', loader.page_id, 'label:', loader.label)\n",
    "    plt.imshow(loader.image())\n",
    "    plt.axis(\"off\")\n",
    "    plt.show()\n",
    "    # print(type(loader.best.files[FileType.AXTree]))\n",
    "    # print(json.dumps(nodes, indent=2, ensure_ascii=False))\n",
    "    # print(type(bb))\n",
    "    # for b_id, b in bb.items():\n",
    "    #     print(b_id, b)\n",
    "    # print(type(backend_id_to_axnode), json.dumps(backend_id_to_axnode, indent=2, ensure_ascii=False))\n",
    "    # print(type(bb_info),'\\n', json.dumps(bb_info, indent=2, ensure_ascii=False))\n",
    "\n",
    "    return bb, bb_info, loader.image()"
   ]
  },
  {
   "cell_type": "code",
   "execution_count": null,
   "metadata": {},
   "outputs": [],
   "source": [
    "def boxed_image(pil_img, bb, bb_info, out_dir, p_name = ''):\n",
    "    img_rgb = np.array(pil_img)                                 # RGB\n",
    "    img_bgr = cv2.cvtColor(img_rgb, cv2.COLOR_RGB2BGR)          # BGR for OpenCV\n",
    "    \n",
    "    # Draw boxes\n",
    "    for b_id, b in bb.items():\n",
    "        if b is None or b[\"width\"] == 0 or b[\"height\"] == 0:\n",
    "            continue\n",
    "            \n",
    "        color_b = (0, 255, 0)\n",
    "        color_t = (255, 0, 0)\n",
    "        \n",
    "        x1, y1 = int(b[\"x\"]), int(b[\"y\"])\n",
    "        x2 = int(b[\"x\"] + b[\"width\"])\n",
    "        y2 = int(b[\"y\"] + b[\"height\"])\n",
    "        \n",
    "        name = bb_info[b_id][\"name\"]\n",
    "        role = bb_info[b_id][\"role\"]\n",
    "        \n",
    "        text_coordinates = (x1, max(y1 - 8, 0))\n",
    "        if y1 < 20:\n",
    "            text_coordinates = (x1, max(y1 + 20, 0))\n",
    "            \n",
    "        if str(role) == p_name:\n",
    "            cv2.rectangle(img_bgr, (x1, y1), (x2, y2), color_b, 2) # Green, width = 2px\n",
    "            cv2.putText(img_bgr, str(b_id), text_coordinates, cv2.FONT_HERSHEY_SIMPLEX, 0.6, color_t, 1) # Text\n",
    "    \n",
    "    cv2.putText(img_bgr, p_name, (10, 150), cv2.FONT_HERSHEY_SIMPLEX, 1, (0, 0, 0), 2) # Text\n",
    "\n",
    "    img_rgb = cv2.cvtColor(img_bgr, cv2.COLOR_BGR2RGB) # Back to RGB\n",
    "    \n",
    "    # Show\n",
    "    # plt.imshow(img_rgb)\n",
    "    # plt.axis(\"off\")\n",
    "    # plt.show()\n",
    "\n",
    "    # Save\n",
    "    os.makedirs(out_dir, exist_ok=True)\n",
    "    # out_dir.mkdir(parents=True, exist_ok=True)\n",
    "    out_path = os.path.join(out_dir, f\"boxed_{p_name}.png\")\n",
    "    \n",
    "    if not cv2.imwrite(str(out_path), img_bgr):\n",
    "        raise RuntimeError(\"error\")\n",
    "    print(f\"Role:{p_name}. Image saved in:\", out_path)"
   ]
  },
  {
   "cell_type": "code",
   "execution_count": null,
   "metadata": {},
   "outputs": [],
   "source": [
    "sites_to_go = {'1655885631145', '1655888953458', '1655890112189'}\n",
    "\n",
    "for site in sites_to_go:\n",
    "    bb1, bb_info1, img = get_bb_and_info(site)\n",
    "    \n",
    "    allowed_roles1 = {info[\"role\"] for info in bb_info1.values()}\n",
    "    print(allowed_roles1)\n",
    "    \n",
    "    out_dir1 = os.path.join(base_data_path, 'bb', site)\n",
    "    \n",
    "    for role in allowed_roles1:\n",
    "        boxed_image(img, bb1, bb_info1, out_dir1, role)"
   ]
  },
  {
   "cell_type": "code",
   "execution_count": null,
   "metadata": {},
   "outputs": [],
   "source": [
    "roles_unic = {'complementary', 'figure', 'button', 'tab', 'none', 'LayoutTableCell', 'tablist', 'article', 'IframePresentational',\n",
    "              'Legend', 'navigation', 'gridcell', 'Section', 'spinbutton', 'DisclosureTriangle', 'img', 'DescriptionList', 'searchbox',\n",
    "              'RootWebArea', 'group', 'Figcaption', 'row', 'Iframe', 'combobox', 'Pre', 'heading', 'menubar', 'DescriptionListDetail', 'menu',\n",
    "              'separator', 'region', 'LineBreak', 'HeaderAsNonLandmark', 'columnheader', 'emphasis', 'listbox', 'rowheader', 'form', 'option',\n",
    "              'textbox', 'link', 'LabelText', 'MenuListPopup', 'contentinfo', 'alertdialog', 'FooterAsNonLandmark', 'dialog', 'paragraph',\n",
    "              'status', 'ListMarker', 'main', 'switch', 'Video', 'Abbr', 'tabpanel', 'grid', 'time', 'table', 'StaticText', 'listitem',\n",
    "              'DescriptionListTerm', 'insertion', 'PluginObject', 'checkbox', 'menuitem', 'superscript', 'generic', 'banner', 'list',\n",
    "              'LayoutTableRow', 'strong', 'LayoutTable', 'search', 'blockquote', 'Details'}\n",
    "print(sorted(roles_unic))"
   ]
  },
  {
   "cell_type": "markdown",
   "metadata": {},
   "source": [
    "## Image viewer"
   ]
  },
  {
   "cell_type": "code",
   "execution_count": null,
   "metadata": {},
   "outputs": [],
   "source": [
    "bb_path = os.path.join(d1_path, \"bb\")"
   ]
  },
  {
   "cell_type": "code",
   "execution_count": null,
   "metadata": {},
   "outputs": [],
   "source": [
    "pages = os.listdir(bb_path)\n",
    "pages"
   ]
  },
  {
   "cell_type": "code",
   "execution_count": null,
   "metadata": {
    "scrolled": true
   },
   "outputs": [],
   "source": [
    "cur_page = 0\n",
    "fpath = os.path.join(bb_path, pages[cur_page])\n",
    "print(os.listdir(fpath))\n",
    "\n",
    "for fname in os.listdir(fpath):\n",
    "    print(fname)\n",
    "    #with open(os.path.join(fpath, fname), 'rb') as f:\n",
    "    img = Image.open(os.path.join(fpath, fname))\n",
    "    _ = plt.imshow(img)\n",
    "    _ = plt.axis(\"off\")\n",
    "    plt.show()"
   ]
  }
 ],
 "metadata": {
  "colab": {
   "provenance": []
  },
  "kernelspec": {
   "display_name": "Python 3 (ipykernel)",
   "language": "python",
   "name": "python3"
  },
  "language_info": {
   "codemirror_mode": {
    "name": "ipython",
    "version": 3
   },
   "file_extension": ".py",
   "mimetype": "text/x-python",
   "name": "python",
   "nbconvert_exporter": "python",
   "pygments_lexer": "ipython3",
   "version": "3.13.2"
  },
  "widgets": {
   "application/vnd.jupyter.widget-state+json": {
    "156aa6f2616343618542a4e1912735cb": {
     "model_module": "@jupyter-widgets/base",
     "model_module_version": "2.0.0",
     "model_name": "LayoutModel",
     "state": {
      "_model_module": "@jupyter-widgets/base",
      "_model_module_version": "2.0.0",
      "_model_name": "LayoutModel",
      "_view_count": null,
      "_view_module": "@jupyter-widgets/base",
      "_view_module_version": "2.0.0",
      "_view_name": "LayoutView",
      "align_content": null,
      "align_items": null,
      "align_self": null,
      "border_bottom": null,
      "border_left": null,
      "border_right": null,
      "border_top": null,
      "bottom": null,
      "display": null,
      "flex": null,
      "flex_flow": null,
      "grid_area": null,
      "grid_auto_columns": null,
      "grid_auto_flow": null,
      "grid_auto_rows": null,
      "grid_column": null,
      "grid_gap": null,
      "grid_row": null,
      "grid_template_areas": null,
      "grid_template_columns": null,
      "grid_template_rows": null,
      "height": null,
      "justify_content": null,
      "justify_items": null,
      "left": null,
      "margin": null,
      "max_height": null,
      "max_width": null,
      "min_height": null,
      "min_width": null,
      "object_fit": null,
      "object_position": null,
      "order": null,
      "overflow": null,
      "padding": null,
      "right": null,
      "top": null,
      "visibility": null,
      "width": null
     }
    },
    "2b96e7a54a204c3db5ddca7fd542d28a": {
     "model_module": "@jupyter-widgets/controls",
     "model_module_version": "2.0.0",
     "model_name": "HTMLModel",
     "state": {
      "_dom_classes": [],
      "_model_module": "@jupyter-widgets/controls",
      "_model_module_version": "2.0.0",
      "_model_name": "HTMLModel",
      "_view_count": null,
      "_view_module": "@jupyter-widgets/controls",
      "_view_module_version": "2.0.0",
      "_view_name": "HTMLView",
      "description": "",
      "description_allow_html": false,
      "layout": "IPY_MODEL_156aa6f2616343618542a4e1912735cb",
      "placeholder": "​",
      "style": "IPY_MODEL_44fc9a6c753342d5a7ce46b396669ea2",
      "tabbable": null,
      "tooltip": null,
      "value": "Fetching 5 files: 100%"
     }
    },
    "44fc9a6c753342d5a7ce46b396669ea2": {
     "model_module": "@jupyter-widgets/controls",
     "model_module_version": "2.0.0",
     "model_name": "HTMLStyleModel",
     "state": {
      "_model_module": "@jupyter-widgets/controls",
      "_model_module_version": "2.0.0",
      "_model_name": "HTMLStyleModel",
      "_view_count": null,
      "_view_module": "@jupyter-widgets/base",
      "_view_module_version": "2.0.0",
      "_view_name": "StyleView",
      "background": null,
      "description_width": "",
      "font_size": null,
      "text_color": null
     }
    },
    "69c1fce5c1d948b4a22676b42c230ddc": {
     "model_module": "@jupyter-widgets/controls",
     "model_module_version": "2.0.0",
     "model_name": "HTMLStyleModel",
     "state": {
      "_model_module": "@jupyter-widgets/controls",
      "_model_module_version": "2.0.0",
      "_model_name": "HTMLStyleModel",
      "_view_count": null,
      "_view_module": "@jupyter-widgets/base",
      "_view_module_version": "2.0.0",
      "_view_name": "StyleView",
      "background": null,
      "description_width": "",
      "font_size": null,
      "text_color": null
     }
    },
    "b0ff489e37684059b0774c9f6cb19167": {
     "model_module": "@jupyter-widgets/base",
     "model_module_version": "2.0.0",
     "model_name": "LayoutModel",
     "state": {
      "_model_module": "@jupyter-widgets/base",
      "_model_module_version": "2.0.0",
      "_model_name": "LayoutModel",
      "_view_count": null,
      "_view_module": "@jupyter-widgets/base",
      "_view_module_version": "2.0.0",
      "_view_name": "LayoutView",
      "align_content": null,
      "align_items": null,
      "align_self": null,
      "border_bottom": null,
      "border_left": null,
      "border_right": null,
      "border_top": null,
      "bottom": null,
      "display": null,
      "flex": null,
      "flex_flow": null,
      "grid_area": null,
      "grid_auto_columns": null,
      "grid_auto_flow": null,
      "grid_auto_rows": null,
      "grid_column": null,
      "grid_gap": null,
      "grid_row": null,
      "grid_template_areas": null,
      "grid_template_columns": null,
      "grid_template_rows": null,
      "height": null,
      "justify_content": null,
      "justify_items": null,
      "left": null,
      "margin": null,
      "max_height": null,
      "max_width": null,
      "min_height": null,
      "min_width": null,
      "object_fit": null,
      "object_position": null,
      "order": null,
      "overflow": null,
      "padding": null,
      "right": null,
      "top": null,
      "visibility": null,
      "width": null
     }
    },
    "cef6bb4e5fec4464b6b4063e19aedd26": {
     "model_module": "@jupyter-widgets/controls",
     "model_module_version": "2.0.0",
     "model_name": "ProgressStyleModel",
     "state": {
      "_model_module": "@jupyter-widgets/controls",
      "_model_module_version": "2.0.0",
      "_model_name": "ProgressStyleModel",
      "_view_count": null,
      "_view_module": "@jupyter-widgets/base",
      "_view_module_version": "2.0.0",
      "_view_name": "StyleView",
      "bar_color": null,
      "description_width": ""
     }
    },
    "d98d9a2e803e4924bd6811cc5f83879f": {
     "model_module": "@jupyter-widgets/controls",
     "model_module_version": "2.0.0",
     "model_name": "HBoxModel",
     "state": {
      "_dom_classes": [],
      "_model_module": "@jupyter-widgets/controls",
      "_model_module_version": "2.0.0",
      "_model_name": "HBoxModel",
      "_view_count": null,
      "_view_module": "@jupyter-widgets/controls",
      "_view_module_version": "2.0.0",
      "_view_name": "HBoxView",
      "box_style": "",
      "children": [
       "IPY_MODEL_2b96e7a54a204c3db5ddca7fd542d28a",
       "IPY_MODEL_e3e0aa201c9d459abe674ad6f4862056",
       "IPY_MODEL_fef72f09603f4b6d9bb60e2af832e94e"
      ],
      "layout": "IPY_MODEL_fb15d77abe5546ccacff75a28a355f91",
      "tabbable": null,
      "tooltip": null
     }
    },
    "dfdd006f188b43309284a7f89dbd2c3c": {
     "model_module": "@jupyter-widgets/base",
     "model_module_version": "2.0.0",
     "model_name": "LayoutModel",
     "state": {
      "_model_module": "@jupyter-widgets/base",
      "_model_module_version": "2.0.0",
      "_model_name": "LayoutModel",
      "_view_count": null,
      "_view_module": "@jupyter-widgets/base",
      "_view_module_version": "2.0.0",
      "_view_name": "LayoutView",
      "align_content": null,
      "align_items": null,
      "align_self": null,
      "border_bottom": null,
      "border_left": null,
      "border_right": null,
      "border_top": null,
      "bottom": null,
      "display": null,
      "flex": null,
      "flex_flow": null,
      "grid_area": null,
      "grid_auto_columns": null,
      "grid_auto_flow": null,
      "grid_auto_rows": null,
      "grid_column": null,
      "grid_gap": null,
      "grid_row": null,
      "grid_template_areas": null,
      "grid_template_columns": null,
      "grid_template_rows": null,
      "height": null,
      "justify_content": null,
      "justify_items": null,
      "left": null,
      "margin": null,
      "max_height": null,
      "max_width": null,
      "min_height": null,
      "min_width": null,
      "object_fit": null,
      "object_position": null,
      "order": null,
      "overflow": null,
      "padding": null,
      "right": null,
      "top": null,
      "visibility": null,
      "width": null
     }
    },
    "e3e0aa201c9d459abe674ad6f4862056": {
     "model_module": "@jupyter-widgets/controls",
     "model_module_version": "2.0.0",
     "model_name": "FloatProgressModel",
     "state": {
      "_dom_classes": [],
      "_model_module": "@jupyter-widgets/controls",
      "_model_module_version": "2.0.0",
      "_model_name": "FloatProgressModel",
      "_view_count": null,
      "_view_module": "@jupyter-widgets/controls",
      "_view_module_version": "2.0.0",
      "_view_name": "ProgressView",
      "bar_style": "success",
      "description": "",
      "description_allow_html": false,
      "layout": "IPY_MODEL_b0ff489e37684059b0774c9f6cb19167",
      "max": 5,
      "min": 0,
      "orientation": "horizontal",
      "style": "IPY_MODEL_cef6bb4e5fec4464b6b4063e19aedd26",
      "tabbable": null,
      "tooltip": null,
      "value": 5
     }
    },
    "fb15d77abe5546ccacff75a28a355f91": {
     "model_module": "@jupyter-widgets/base",
     "model_module_version": "2.0.0",
     "model_name": "LayoutModel",
     "state": {
      "_model_module": "@jupyter-widgets/base",
      "_model_module_version": "2.0.0",
      "_model_name": "LayoutModel",
      "_view_count": null,
      "_view_module": "@jupyter-widgets/base",
      "_view_module_version": "2.0.0",
      "_view_name": "LayoutView",
      "align_content": null,
      "align_items": null,
      "align_self": null,
      "border_bottom": null,
      "border_left": null,
      "border_right": null,
      "border_top": null,
      "bottom": null,
      "display": null,
      "flex": null,
      "flex_flow": null,
      "grid_area": null,
      "grid_auto_columns": null,
      "grid_auto_flow": null,
      "grid_auto_rows": null,
      "grid_column": null,
      "grid_gap": null,
      "grid_row": null,
      "grid_template_areas": null,
      "grid_template_columns": null,
      "grid_template_rows": null,
      "height": null,
      "justify_content": null,
      "justify_items": null,
      "left": null,
      "margin": null,
      "max_height": null,
      "max_width": null,
      "min_height": null,
      "min_width": null,
      "object_fit": null,
      "object_position": null,
      "order": null,
      "overflow": null,
      "padding": null,
      "right": null,
      "top": null,
      "visibility": null,
      "width": null
     }
    },
    "fef72f09603f4b6d9bb60e2af832e94e": {
     "model_module": "@jupyter-widgets/controls",
     "model_module_version": "2.0.0",
     "model_name": "HTMLModel",
     "state": {
      "_dom_classes": [],
      "_model_module": "@jupyter-widgets/controls",
      "_model_module_version": "2.0.0",
      "_model_name": "HTMLModel",
      "_view_count": null,
      "_view_module": "@jupyter-widgets/controls",
      "_view_module_version": "2.0.0",
      "_view_name": "HTMLView",
      "description": "",
      "description_allow_html": false,
      "layout": "IPY_MODEL_dfdd006f188b43309284a7f89dbd2c3c",
      "placeholder": "​",
      "style": "IPY_MODEL_69c1fce5c1d948b4a22676b42c230ddc",
      "tabbable": null,
      "tooltip": null,
      "value": " 5/5 [00:00&lt;00:00, 1257.96it/s]"
     }
    }
   }
  }
 },
 "nbformat": 4,
 "nbformat_minor": 4
}
