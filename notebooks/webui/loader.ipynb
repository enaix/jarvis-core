{
  "nbformat": 4,
  "nbformat_minor": 0,
  "metadata": {
    "colab": {
      "provenance": []
    },
    "kernelspec": {
      "name": "python3",
      "display_name": "Python 3"
    },
    "language_info": {
      "name": "python"
    },
    "widgets": {
      "application/vnd.jupyter.widget-state+json": {
        "d98d9a2e803e4924bd6811cc5f83879f": {
          "model_module": "@jupyter-widgets/controls",
          "model_name": "HBoxModel",
          "model_module_version": "2.0.0",
          "state": {
            "_dom_classes": [],
            "_model_module": "@jupyter-widgets/controls",
            "_model_module_version": "2.0.0",
            "_model_name": "HBoxModel",
            "_view_count": null,
            "_view_module": "@jupyter-widgets/controls",
            "_view_module_version": "2.0.0",
            "_view_name": "HBoxView",
            "box_style": "",
            "children": [
              "IPY_MODEL_2b96e7a54a204c3db5ddca7fd542d28a",
              "IPY_MODEL_e3e0aa201c9d459abe674ad6f4862056",
              "IPY_MODEL_fef72f09603f4b6d9bb60e2af832e94e"
            ],
            "layout": "IPY_MODEL_fb15d77abe5546ccacff75a28a355f91",
            "tabbable": null,
            "tooltip": null
          }
        },
        "2b96e7a54a204c3db5ddca7fd542d28a": {
          "model_module": "@jupyter-widgets/controls",
          "model_name": "HTMLModel",
          "model_module_version": "2.0.0",
          "state": {
            "_dom_classes": [],
            "_model_module": "@jupyter-widgets/controls",
            "_model_module_version": "2.0.0",
            "_model_name": "HTMLModel",
            "_view_count": null,
            "_view_module": "@jupyter-widgets/controls",
            "_view_module_version": "2.0.0",
            "_view_name": "HTMLView",
            "description": "",
            "description_allow_html": false,
            "layout": "IPY_MODEL_156aa6f2616343618542a4e1912735cb",
            "placeholder": "​",
            "style": "IPY_MODEL_44fc9a6c753342d5a7ce46b396669ea2",
            "tabbable": null,
            "tooltip": null,
            "value": "Fetching 5 files: 100%"
          }
        },
        "e3e0aa201c9d459abe674ad6f4862056": {
          "model_module": "@jupyter-widgets/controls",
          "model_name": "FloatProgressModel",
          "model_module_version": "2.0.0",
          "state": {
            "_dom_classes": [],
            "_model_module": "@jupyter-widgets/controls",
            "_model_module_version": "2.0.0",
            "_model_name": "FloatProgressModel",
            "_view_count": null,
            "_view_module": "@jupyter-widgets/controls",
            "_view_module_version": "2.0.0",
            "_view_name": "ProgressView",
            "bar_style": "success",
            "description": "",
            "description_allow_html": false,
            "layout": "IPY_MODEL_b0ff489e37684059b0774c9f6cb19167",
            "max": 5,
            "min": 0,
            "orientation": "horizontal",
            "style": "IPY_MODEL_cef6bb4e5fec4464b6b4063e19aedd26",
            "tabbable": null,
            "tooltip": null,
            "value": 5
          }
        },
        "fef72f09603f4b6d9bb60e2af832e94e": {
          "model_module": "@jupyter-widgets/controls",
          "model_name": "HTMLModel",
          "model_module_version": "2.0.0",
          "state": {
            "_dom_classes": [],
            "_model_module": "@jupyter-widgets/controls",
            "_model_module_version": "2.0.0",
            "_model_name": "HTMLModel",
            "_view_count": null,
            "_view_module": "@jupyter-widgets/controls",
            "_view_module_version": "2.0.0",
            "_view_name": "HTMLView",
            "description": "",
            "description_allow_html": false,
            "layout": "IPY_MODEL_dfdd006f188b43309284a7f89dbd2c3c",
            "placeholder": "​",
            "style": "IPY_MODEL_69c1fce5c1d948b4a22676b42c230ddc",
            "tabbable": null,
            "tooltip": null,
            "value": " 5/5 [00:00&lt;00:00, 1257.96it/s]"
          }
        },
        "fb15d77abe5546ccacff75a28a355f91": {
          "model_module": "@jupyter-widgets/base",
          "model_name": "LayoutModel",
          "model_module_version": "2.0.0",
          "state": {
            "_model_module": "@jupyter-widgets/base",
            "_model_module_version": "2.0.0",
            "_model_name": "LayoutModel",
            "_view_count": null,
            "_view_module": "@jupyter-widgets/base",
            "_view_module_version": "2.0.0",
            "_view_name": "LayoutView",
            "align_content": null,
            "align_items": null,
            "align_self": null,
            "border_bottom": null,
            "border_left": null,
            "border_right": null,
            "border_top": null,
            "bottom": null,
            "display": null,
            "flex": null,
            "flex_flow": null,
            "grid_area": null,
            "grid_auto_columns": null,
            "grid_auto_flow": null,
            "grid_auto_rows": null,
            "grid_column": null,
            "grid_gap": null,
            "grid_row": null,
            "grid_template_areas": null,
            "grid_template_columns": null,
            "grid_template_rows": null,
            "height": null,
            "justify_content": null,
            "justify_items": null,
            "left": null,
            "margin": null,
            "max_height": null,
            "max_width": null,
            "min_height": null,
            "min_width": null,
            "object_fit": null,
            "object_position": null,
            "order": null,
            "overflow": null,
            "padding": null,
            "right": null,
            "top": null,
            "visibility": null,
            "width": null
          }
        },
        "156aa6f2616343618542a4e1912735cb": {
          "model_module": "@jupyter-widgets/base",
          "model_name": "LayoutModel",
          "model_module_version": "2.0.0",
          "state": {
            "_model_module": "@jupyter-widgets/base",
            "_model_module_version": "2.0.0",
            "_model_name": "LayoutModel",
            "_view_count": null,
            "_view_module": "@jupyter-widgets/base",
            "_view_module_version": "2.0.0",
            "_view_name": "LayoutView",
            "align_content": null,
            "align_items": null,
            "align_self": null,
            "border_bottom": null,
            "border_left": null,
            "border_right": null,
            "border_top": null,
            "bottom": null,
            "display": null,
            "flex": null,
            "flex_flow": null,
            "grid_area": null,
            "grid_auto_columns": null,
            "grid_auto_flow": null,
            "grid_auto_rows": null,
            "grid_column": null,
            "grid_gap": null,
            "grid_row": null,
            "grid_template_areas": null,
            "grid_template_columns": null,
            "grid_template_rows": null,
            "height": null,
            "justify_content": null,
            "justify_items": null,
            "left": null,
            "margin": null,
            "max_height": null,
            "max_width": null,
            "min_height": null,
            "min_width": null,
            "object_fit": null,
            "object_position": null,
            "order": null,
            "overflow": null,
            "padding": null,
            "right": null,
            "top": null,
            "visibility": null,
            "width": null
          }
        },
        "44fc9a6c753342d5a7ce46b396669ea2": {
          "model_module": "@jupyter-widgets/controls",
          "model_name": "HTMLStyleModel",
          "model_module_version": "2.0.0",
          "state": {
            "_model_module": "@jupyter-widgets/controls",
            "_model_module_version": "2.0.0",
            "_model_name": "HTMLStyleModel",
            "_view_count": null,
            "_view_module": "@jupyter-widgets/base",
            "_view_module_version": "2.0.0",
            "_view_name": "StyleView",
            "background": null,
            "description_width": "",
            "font_size": null,
            "text_color": null
          }
        },
        "b0ff489e37684059b0774c9f6cb19167": {
          "model_module": "@jupyter-widgets/base",
          "model_name": "LayoutModel",
          "model_module_version": "2.0.0",
          "state": {
            "_model_module": "@jupyter-widgets/base",
            "_model_module_version": "2.0.0",
            "_model_name": "LayoutModel",
            "_view_count": null,
            "_view_module": "@jupyter-widgets/base",
            "_view_module_version": "2.0.0",
            "_view_name": "LayoutView",
            "align_content": null,
            "align_items": null,
            "align_self": null,
            "border_bottom": null,
            "border_left": null,
            "border_right": null,
            "border_top": null,
            "bottom": null,
            "display": null,
            "flex": null,
            "flex_flow": null,
            "grid_area": null,
            "grid_auto_columns": null,
            "grid_auto_flow": null,
            "grid_auto_rows": null,
            "grid_column": null,
            "grid_gap": null,
            "grid_row": null,
            "grid_template_areas": null,
            "grid_template_columns": null,
            "grid_template_rows": null,
            "height": null,
            "justify_content": null,
            "justify_items": null,
            "left": null,
            "margin": null,
            "max_height": null,
            "max_width": null,
            "min_height": null,
            "min_width": null,
            "object_fit": null,
            "object_position": null,
            "order": null,
            "overflow": null,
            "padding": null,
            "right": null,
            "top": null,
            "visibility": null,
            "width": null
          }
        },
        "cef6bb4e5fec4464b6b4063e19aedd26": {
          "model_module": "@jupyter-widgets/controls",
          "model_name": "ProgressStyleModel",
          "model_module_version": "2.0.0",
          "state": {
            "_model_module": "@jupyter-widgets/controls",
            "_model_module_version": "2.0.0",
            "_model_name": "ProgressStyleModel",
            "_view_count": null,
            "_view_module": "@jupyter-widgets/base",
            "_view_module_version": "2.0.0",
            "_view_name": "StyleView",
            "bar_color": null,
            "description_width": ""
          }
        },
        "dfdd006f188b43309284a7f89dbd2c3c": {
          "model_module": "@jupyter-widgets/base",
          "model_name": "LayoutModel",
          "model_module_version": "2.0.0",
          "state": {
            "_model_module": "@jupyter-widgets/base",
            "_model_module_version": "2.0.0",
            "_model_name": "LayoutModel",
            "_view_count": null,
            "_view_module": "@jupyter-widgets/base",
            "_view_module_version": "2.0.0",
            "_view_name": "LayoutView",
            "align_content": null,
            "align_items": null,
            "align_self": null,
            "border_bottom": null,
            "border_left": null,
            "border_right": null,
            "border_top": null,
            "bottom": null,
            "display": null,
            "flex": null,
            "flex_flow": null,
            "grid_area": null,
            "grid_auto_columns": null,
            "grid_auto_flow": null,
            "grid_auto_rows": null,
            "grid_column": null,
            "grid_gap": null,
            "grid_row": null,
            "grid_template_areas": null,
            "grid_template_columns": null,
            "grid_template_rows": null,
            "height": null,
            "justify_content": null,
            "justify_items": null,
            "left": null,
            "margin": null,
            "max_height": null,
            "max_width": null,
            "min_height": null,
            "min_width": null,
            "object_fit": null,
            "object_position": null,
            "order": null,
            "overflow": null,
            "padding": null,
            "right": null,
            "top": null,
            "visibility": null,
            "width": null
          }
        },
        "69c1fce5c1d948b4a22676b42c230ddc": {
          "model_module": "@jupyter-widgets/controls",
          "model_name": "HTMLStyleModel",
          "model_module_version": "2.0.0",
          "state": {
            "_model_module": "@jupyter-widgets/controls",
            "_model_module_version": "2.0.0",
            "_model_name": "HTMLStyleModel",
            "_view_count": null,
            "_view_module": "@jupyter-widgets/base",
            "_view_module_version": "2.0.0",
            "_view_name": "StyleView",
            "background": null,
            "description_width": "",
            "font_size": null,
            "text_color": null
          }
        }
      }
    }
  },
  "cells": [
    {
      "cell_type": "code",
      "source": [
        "from huggingface_hub import snapshot_download"
      ],
      "metadata": {
        "id": "ecLzMZKB0pa7"
      },
      "execution_count": 1,
      "outputs": []
    },
    {
      "cell_type": "code",
      "source": [
        "dataset_path = snapshot_download(repo_id=\"biglab/webui-7k\", repo_type=\"dataset\")\n",
        "dataset_path"
      ],
      "metadata": {
        "colab": {
          "base_uri": "https://localhost:8080/",
          "height": 35,
          "referenced_widgets": [
            "d98d9a2e803e4924bd6811cc5f83879f",
            "2b96e7a54a204c3db5ddca7fd542d28a",
            "e3e0aa201c9d459abe674ad6f4862056",
            "fef72f09603f4b6d9bb60e2af832e94e",
            "fb15d77abe5546ccacff75a28a355f91",
            "156aa6f2616343618542a4e1912735cb",
            "44fc9a6c753342d5a7ce46b396669ea2",
            "b0ff489e37684059b0774c9f6cb19167",
            "cef6bb4e5fec4464b6b4063e19aedd26",
            "dfdd006f188b43309284a7f89dbd2c3c",
            "69c1fce5c1d948b4a22676b42c230ddc"
          ]
        },
        "id": "0eqIHbbT0sgV",
        "outputId": "cfeef518-fbde-47fb-9d6d-74557cc46976"
      },
      "execution_count": 2,
      "outputs": [
        {
          "output_type": "display_data",
          "data": {
            "text/plain": [
              "Fetching 5 files:   0%|          | 0/5 [00:00<?, ?it/s]"
            ],
            "application/vnd.jupyter.widget-view+json": {
              "version_major": 2,
              "version_minor": 0,
              "model_id": "d98d9a2e803e4924bd6811cc5f83879f"
            }
          },
          "metadata": {}
        },
        {
          "output_type": "execute_result",
          "data": {
            "text/plain": [
              "'/home/flynn/.cache/huggingface/hub/datasets--biglab--webui-7k/snapshots/60f7b3c4b9409f75551664adc1564625dfc33c2e'"
            ]
          },
          "metadata": {},
          "execution_count": 2
        }
      ]
    },
    {
      "cell_type": "code",
      "source": [
        "import enum\n",
        "import os\n",
        "import zipfile\n",
        "import gzip\n",
        "import json\n",
        "from glob import glob\n",
        "import re"
      ],
      "metadata": {
        "id": "_Ns_OaPA1G58"
      },
      "execution_count": 3,
      "outputs": []
    },
    {
      "cell_type": "code",
      "source": [
        "import numpy as np\n",
        "import pandas as pd\n",
        "from PIL import Image\n",
        "import matplotlib.pyplot as plt"
      ],
      "metadata": {
        "id": "Zjkz3BXsgZMp"
      },
      "execution_count": 4,
      "outputs": []
    },
    {
      "cell_type": "code",
      "source": [
        "# dead code\n",
        "class WidType(enum.StrEnum):\n",
        "    IMG = \"img\",\n",
        "    FIGURE = \"figure\",\n",
        "    S_TEXT = \"StaticText\",\n",
        "    SEP = \"separator\",\n",
        "    BR = \"LineBreak\", # <br>\n",
        "    LINK = \"link\",\n",
        "    LIST_ITEM = \"listitem\",\n",
        "    HEADING = \"heading\",\n",
        "    PARAGRAPH = \"paragraph\"\n",
        "\n"
      ],
      "metadata": {
        "id": "4VawOQzO1AhF"
      },
      "execution_count": null,
      "outputs": []
    },
    {
      "cell_type": "code",
      "source": [
        "# Create output dir\n",
        "d1_path = os.path.join(dataset_path, \"dataset1\")\n",
        "if not os.path.exists(d1_path):\n",
        "    os.mkdir(d1_path)"
      ],
      "metadata": {
        "id": "A4VUOww5Bjoj"
      },
      "execution_count": 5,
      "outputs": []
    },
    {
      "cell_type": "markdown",
      "source": [
        "## Dataset decompression"
      ],
      "metadata": {
        "id": "kI3x0EfEktFl"
      }
    },
    {
      "cell_type": "code",
      "source": [
        "# Merge 2 zip files\n",
        "files = glob(os.path.join(dataset_path, \"*.zip*\"))\n",
        "output = os.path.join(d1_path, \"dataset.zip\")\n",
        "\n",
        "os.system(\"cat \" + ' '.join(files) + \" > \" + output)"
      ],
      "metadata": {
        "colab": {
          "base_uri": "https://localhost:8080/"
        },
        "id": "g_MD2fmGDnxZ",
        "outputId": "a2fb9077-5bdd-4d13-917f-f0a910d1662f"
      },
      "execution_count": null,
      "outputs": [
        {
          "output_type": "execute_result",
          "data": {
            "text/plain": [
              "0"
            ]
          },
          "metadata": {},
          "execution_count": 10
        }
      ]
    },
    {
      "cell_type": "code",
      "source": [
        "d1_zip = os.path.realpath(output)\n",
        "zipfile.is_zipfile(d1_zip)"
      ],
      "metadata": {
        "colab": {
          "base_uri": "https://localhost:8080/"
        },
        "id": "xGG5n3r4C2HC",
        "outputId": "d419eae9-efd6-4c3e-903c-12c07d740fa5"
      },
      "execution_count": null,
      "outputs": [
        {
          "output_type": "execute_result",
          "data": {
            "text/plain": [
              "True"
            ]
          },
          "metadata": {},
          "execution_count": 11
        }
      ]
    },
    {
      "cell_type": "code",
      "source": [
        "with zipfile.ZipFile(output, 'r') as z:\n",
        "    z.extractall(d1_path)"
      ],
      "metadata": {
        "id": "2dC08tnVBrHe"
      },
      "execution_count": null,
      "outputs": []
    },
    {
      "cell_type": "markdown",
      "source": [
        "## Loading files"
      ],
      "metadata": {
        "id": "TDhhl7ICYK4H"
      }
    },
    {
      "cell_type": "code",
      "source": [
        "files = os.path.join(d1_path, \"train_split_web7k\")"
      ],
      "metadata": {
        "id": "39WdKQA0FLGT"
      },
      "execution_count": 6,
      "outputs": []
    },
    {
      "cell_type": "code",
      "source": [
        "files"
      ],
      "metadata": {
        "colab": {
          "base_uri": "https://localhost:8080/"
        },
        "id": "DDiec4GNFT_D",
        "outputId": "9bc10315-8742-4b71-eb8a-88ba6ad3b024"
      },
      "execution_count": 7,
      "outputs": [
        {
          "output_type": "execute_result",
          "data": {
            "text/plain": [
              "'/home/flynn/.cache/huggingface/hub/datasets--biglab--webui-7k/snapshots/60f7b3c4b9409f75551664adc1564625dfc33c2e/dataset1/train_split_web7k'"
            ]
          },
          "metadata": {},
          "execution_count": 7
        }
      ]
    },
    {
      "cell_type": "code",
      "source": [
        "len(os.listdir(files))"
      ],
      "metadata": {
        "colab": {
          "base_uri": "https://localhost:8080/"
        },
        "id": "3rNYldH_Y8TA",
        "outputId": "319fe693-380e-4e16-98c5-38e479a75738"
      },
      "execution_count": null,
      "outputs": [
        {
          "output_type": "execute_result",
          "data": {
            "text/plain": [
              "5420"
            ]
          },
          "metadata": {},
          "execution_count": 50
        }
      ]
    },
    {
      "cell_type": "code",
      "source": [
        "# Load pages metadata\n",
        "with open('webui/metadata/screenclassification/class_map_enrico.json', 'r') as f:\n",
        "    labels = json.load(f)[\"idx2Label\"].values()\n",
        "dtypes = {**{'page_id': object, 'file': object}, **dict([(x, np.float64) for x in labels])}\n",
        "\n",
        "df_c = pd.read_csv('webui/metadata/screenclassification/silver_webui-multi_topic.csv', sep=r'[,\\\\]', names=['page_id', 'file', *labels], dtype=dtypes, engine='python')"
      ],
      "metadata": {
        "id": "xOu8a6ATgeea"
      },
      "execution_count": 8,
      "outputs": []
    },
    {
      "cell_type": "code",
      "source": [
        "def label_certainty_thresh(c: np.float64) -> bool:\n",
        "    return c >= 6.0"
      ],
      "metadata": {
        "id": "H_G-R82Agt6t"
      },
      "execution_count": 41,
      "outputs": []
    },
    {
      "cell_type": "code",
      "source": [
        "#df_c_max.apply(lambda x: x[[*labels]].max(), axis=1).mean()\n",
        "#-np.log(0.5)"
      ],
      "metadata": {
        "id": "xdoNi819Me86"
      },
      "execution_count": 24,
      "outputs": []
    },
    {
      "cell_type": "code",
      "source": [
        "# Take average of each screenshot and save max\n",
        "df_c_max = df_c.drop(columns='file').groupby(by=df_c['page_id'])[[*labels]].mean()\n",
        "#df_c_max['label_max'] = df_c_max.apply(lambda x: x[labels].idxmax(), axis=1)\n",
        "#df_c_max['certainty'] = df_c_max.apply(lambda x: x[labels].max(), axis=1)\n",
        "\n",
        "df_c_max[['label_max', 'certainty']] = df_c_max.apply(lambda x: (x[labels].idxmax(), x[labels].max()), axis=1).apply(pd.Series)\n",
        "df_c_max.index = df_c_max.index.astype(np.int64)"
      ],
      "metadata": {
        "id": "AdXcQNGSm03A"
      },
      "execution_count": 43,
      "outputs": []
    },
    {
      "cell_type": "code",
      "source": [
        "df_c_max[\"label_max\"].value_counts()"
      ],
      "metadata": {
        "colab": {
          "base_uri": "https://localhost:8080/"
        },
        "id": "5KafmSBrrEol",
        "outputId": "e749eec4-a2a7-4fb0-a5ce-ec4b13c52df1"
      },
      "execution_count": 10,
      "outputs": [
        {
          "output_type": "execute_result",
          "data": {
            "text/plain": [
              "label_max\n",
              "tutorial       42840\n",
              "news           16402\n",
              "gallery        14682\n",
              "list           13933\n",
              "modal          10268\n",
              "menu           10037\n",
              "terms           7995\n",
              "profile         6242\n",
              "bare            5960\n",
              "login           5665\n",
              "mediaplayer     4961\n",
              "calculator      1626\n",
              "search          1250\n",
              "other           1249\n",
              "form            1135\n",
              "camera           907\n",
              "settings         766\n",
              "editor           365\n",
              "chat             143\n",
              "maps             140\n",
              "Name: count, dtype: int64"
            ]
          },
          "metadata": {},
          "execution_count": 10
        }
      ]
    },
    {
      "cell_type": "markdown",
      "source": [
        "## Dataset parsing"
      ],
      "metadata": {
        "id": "t87eO0gDk_YL"
      }
    },
    {
      "cell_type": "code",
      "source": [
        "class FileType(enum.StrEnum):\n",
        "    \"\"\"\n",
        "    Enum containing all filetypes\n",
        "    \"\"\"\n",
        "\n",
        "    AXTree = \"axtree.json.gz\",\n",
        "    BB = \"bb.json.gz\",\n",
        "    Box = \"box.json.gz\",\n",
        "    Class = \"class.json.gz\",\n",
        "    HTML = \"html.html\",\n",
        "    Links = \"links.json\",\n",
        "    ScreenFull = \"screenshot-full.webp\",\n",
        "    Screen = \"screenshot.webp\",\n",
        "    Style = \"style.json.gz\",\n",
        "    URL = \"url.txt\",\n",
        "    Viewport = \"viewport.json.gz\"\n",
        "\n",
        "# Helper functions\n",
        "\n",
        "def ft_is_gz(ft: FileType) -> bool:\n",
        "    \"\"\"\n",
        "    Check if a FileType is a gz file\n",
        "    \"\"\"\n",
        "    return ft in [FileType.AXTree, FileType.BB, FileType.Box, FileType.Class, FileType.Style, FileType.Viewport]\n",
        "\n",
        "def ft_is_json(ft: FileType) -> bool:\n",
        "    \"\"\"\n",
        "    Check if a FileType is in json format\n",
        "    \"\"\"\n",
        "    return ft in [FileType.AXTree, FileType.BB, FileType.Box, FileType.Class, FileType.Links, FileType.Style, FileType.Viewport]\n",
        "\n",
        "def ft_is_webp(ft: FileType) -> bool:\n",
        "    \"\"\"\n",
        "    Check if a FileType is a webp image\n",
        "    \"\"\"\n",
        "    return ft in [FileType.ScreenFull, FileType.Screen]\n",
        "\n",
        "\n",
        "\n",
        "\n",
        "\n",
        "class Page():\n",
        "    \"\"\"\n",
        "    A class which loads page content (screen)\n",
        "    \"\"\"\n",
        "    def __init__(self, path, screen_type: str, debug: bool = True):\n",
        "        self.screen_type = screen_type\n",
        "        self.path = path\n",
        "        self.skip = False\n",
        "\n",
        "        # Parse screen type\n",
        "        self.desktop = screen_type.startswith(\"default\")\n",
        "        if self.desktop:\n",
        "            (self.width, self.height) = tuple(map(int, screen_type.split('_')[1].split('-')))\n",
        "        else:\n",
        "            (self.width, self.height) = (0, 0)\n",
        "\n",
        "        # Load filenames\n",
        "        #files = list(filter(lambda x: x.startswith(screen_type), os.listdir(path)))\n",
        "        self.fnames = dict()\n",
        "        self.files = dict()\n",
        "        missing = False\n",
        "\n",
        "        for ft in FileType:\n",
        "            file_path = screen_type + \"-\" + ft.value\n",
        "            if os.path.exists(os.path.join(self.path, file_path)):\n",
        "                self.fnames[ft] = file_path\n",
        "            else:\n",
        "                missing = True\n",
        "\n",
        "\n",
        "        if missing:\n",
        "            # Some files are missing\n",
        "            if debug:\n",
        "                for ft, v in self.fnames.items():\n",
        "                    assert ft_is_webp(ft), \"Page::__init__() : non-webp file in partial download : {}\".format(v)\n",
        "            self.skip = True\n",
        "\n",
        "\n",
        "    def load(self, debug: bool = True, *args):\n",
        "        if self.skip:\n",
        "            return\n",
        "\n",
        "        if len(args) == 0:\n",
        "            ftypes = FileType\n",
        "        else:\n",
        "            ftypes = args\n",
        "\n",
        "        for ft in ftypes:\n",
        "            fname = os.path.join(self.path, self.fnames[ft])\n",
        "            if debug:\n",
        "                print(\"Page::load() : loading file {}...\".format(self.fnames[ft]))\n",
        "\n",
        "            if ft_is_webp(ft):\n",
        "                # Check if the file is empty\n",
        "                if os.path.getsize(fname) == 0:\n",
        "                    if debug:\n",
        "                        print(\"Page::load() : {} is empty\".format(self.fnames[ft]))\n",
        "                    continue\n",
        "                self.files[ft] = Image.open(fname)\n",
        "\n",
        "            elif ft_is_gz(ft):\n",
        "                # gzip\n",
        "                with gzip.open(fname) as f:\n",
        "                    if ft_is_json(ft):\n",
        "                        self.files[ft] = json.load(f)\n",
        "                    else:\n",
        "                        # plaintext\n",
        "                        self.files[ft] = f.read()\n",
        "            else:\n",
        "                # not compressed\n",
        "                with open(fname) as f:\n",
        "                    if ft_is_json(ft):\n",
        "                        self.files[ft] = json.load(f)\n",
        "                    else:\n",
        "                        # plaintext\n",
        "                        self.files[ft] = f.read()\n",
        "\n",
        "\n",
        "class PageLoader():\n",
        "    \"\"\"\n",
        "    A class which loads multiple pages (with different resolutions). Loads only labels of the specified class\n",
        "    \"\"\"\n",
        "    def __init__(self, path, debug: bool = True, *args):\n",
        "        self.path = path\n",
        "        self.page_id = np.int64(os.path.basename(path))\n",
        "\n",
        "        #print(self.page_id)\n",
        "        self.label = df_c_max.at[self.page_id, \"label_max\"]\n",
        "        self.certainty = df_c_max.at[self.page_id, \"certainty\"]\n",
        "\n",
        "        self.skip = False\n",
        "\n",
        "        if debug:\n",
        "            print(\"PageLoader()::__init__() : opening\", self.page_id)\n",
        "            #print(os.listdir(self.path))\n",
        "\n",
        "        # Extract pages\n",
        "        prefixes = map(lambda x: '-'.join(x.split('-')[:-1]), os.listdir(self.path))\n",
        "        screen_types = list(filter(lambda x: x.find(\"screenshot\") == -1, list(set(prefixes))))\n",
        "\n",
        "        self.pages = dict()\n",
        "\n",
        "        for s in screen_types:\n",
        "            page = Page(self.path, s, debug)\n",
        "            if not page.skip:\n",
        "                self.pages[s] = page\n",
        "                self.pages[s].load(debug) # load all\n",
        "\n",
        "    def image(self) -> [Image.Image, None]:\n",
        "        \"\"\"\n",
        "        Find and return the largest page image width. Desktop images always have the largest priority\n",
        "        \"\"\"\n",
        "        for page in sorted(list(self.pages.values()), reverse=True, key=lambda x: x.width):\n",
        "            if page.files.get(FileType.Screen) is not None:\n",
        "                return page.files[FileType.Screen]\n",
        "        return None"
      ],
      "metadata": {
        "id": "WVmp-L4jbhnK"
      },
      "execution_count": 39,
      "outputs": []
    },
    {
      "cell_type": "code",
      "source": [
        "def preview(img: Image.Image, width: int) -> Image.Image:\n",
        "    return img.resize((width, int(img.height / img.width * width)))"
      ],
      "metadata": {
        "id": "Ewx1zih0y-9Z"
      },
      "execution_count": 29,
      "outputs": []
    },
    {
      "cell_type": "code",
      "source": [
        "_ = plt.figure(figsize=(36, 20)) # 1920/1080 scaled to 360p\n",
        "(nrows, ncols) = (5, 5) # Set the grid size\n",
        "start = nrows*ncols # Start index\n",
        "skip = 0\n",
        "\n",
        "files_l = os.listdir(files)\n",
        "for index in range(0, nrows*ncols):\n",
        "    while True: # Find matching\n",
        "        fpath = files_l[index + start + skip]\n",
        "        # Parse the page\n",
        "        loader = PageLoader(os.path.join(files, fpath), debug=False)\n",
        "        if not label_certainty_thresh(loader.certainty):\n",
        "            skip += 1\n",
        "            continue # Skip\n",
        "\n",
        "        # Create a subplot and render an image\n",
        "        ax = plt.subplot(nrows, ncols, index+1)\n",
        "        _ = plt.title(loader.label)\n",
        "        _, _ = plt.xticks([]), plt.yticks([]);\n",
        "        image = loader.image()\n",
        "        if image is not None:\n",
        "            _ = plt.imshow(preview(image, 360))\n",
        "        else:\n",
        "            skip += 1\n",
        "            continue # Load the next sample\n",
        "\n",
        "        # Else found\n",
        "        break\n",
        "_ = plt.show()"
      ],
      "metadata": {
        "colab": {
          "base_uri": "https://localhost:8080/",
          "height": 90
        },
        "id": "Sb5ptniwbNzc",
        "outputId": "2ce9bde2-edad-474d-e6e0-c4a68ad2ddf7"
      },
      "execution_count": 45,
      "outputs": [
        {
          "output_type": "stream",
          "name": "stderr",
          "text": [
            "\n",
            "KeyboardInterrupt\n",
            "\n"
          ]
        },
        {
          "output_type": "display_data",
          "data": {
            "text/plain": [
              "<Figure size 3600x2000 with 0 Axes>"
            ]
          },
          "metadata": {}
        }
      ]
    },
    {
      "cell_type": "code",
      "source": [
        "loader.pages['default_1920-1080'].files[FileType.AXTree][\"nodes\"].__len__()"
      ],
      "metadata": {
        "colab": {
          "base_uri": "https://localhost:8080/"
        },
        "id": "L4WRODPOcBlw",
        "outputId": "297c5c13-0949-448b-d51b-73ce7cd05e74"
      },
      "execution_count": null,
      "outputs": [
        {
          "output_type": "execute_result",
          "data": {
            "text/plain": [
              "649"
            ]
          },
          "metadata": {},
          "execution_count": 35
        }
      ]
    },
    {
      "cell_type": "code",
      "source": [
        "print(loader.page_id, loader.label)\n",
        "display(preview(loader.pages['default_1920-1080'].files[FileType.Screen], 512))"
      ],
      "metadata": {
        "colab": {
          "base_uri": "https://localhost:8080/",
          "height": 323
        },
        "id": "wt8mh00ad8OF",
        "outputId": "472dd0e2-1322-4ac0-c2ad-8093c2db0b1a"
      },
      "execution_count": null,
      "outputs": [
        {
          "output_type": "stream",
          "name": "stdout",
          "text": [
            "1656338082813 list\n"
          ]
        },
        {
          "output_type": "display_data",
          "data": {
            "text/plain": [
              "<PIL.Image.Image image mode=RGB size=512x288>"
            ],
            "image/png": "[encoded data removed]",
            "image/jpeg": "[encoded data removed]"
          },
          "metadata": {}
        }
      ]
    }
  ]
}